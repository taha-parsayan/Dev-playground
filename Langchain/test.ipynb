{
 "cells": [
  {
   "cell_type": "markdown",
   "metadata": {},
   "source": [
    "### Here I test stuff"
   ]
  },
  {
   "cell_type": "code",
   "execution_count": 3,
   "metadata": {},
   "outputs": [
    {
     "data": {
      "text/plain": [
       "''"
      ]
     },
     "execution_count": 3,
     "metadata": {},
     "output_type": "execute_result"
    }
   ],
   "source": [
    "import os\n",
    "import sys\n",
    "from pydantic import BaseModel, Field\n",
    "\n",
    "current_dir = os.getcwd()\n",
    "parrent_dir = os.path.abspath(os.path.join(current_dir, '..'))\n",
    "sys.path.append(parrent_dir)\n",
    "\n",
    "from Update_Git import git_add, git_commit, git_push\n",
    "\n",
    "add_file = os.path.join(current_dir, 'test.ipynb')\n",
    "git_add(add_file)\n",
    "git_commit('test updated')\n",
    "git_push('main')\n"
   ]
  },
  {
   "cell_type": "code",
   "execution_count": 10,
   "metadata": {},
   "outputs": [
    {
     "name": "stdout",
     "output_type": "stream",
     "text": [
      "<class '__main__.User'>\n",
      "name='Taha' age=30 id=1\n",
      "30\n",
      "1\n",
      "______\n",
      "name='Taha' age=30 id=1\n"
     ]
    }
   ],
   "source": [
    "class User(BaseModel):\n",
    "    name: str\n",
    "    age: int\n",
    "    id: int\n",
    "\n",
    "# Method 1\n",
    "Taha = User(\n",
    "    name='Taha',\n",
    "    age=30,\n",
    "    id=1\n",
    ")\n",
    "\n",
    "print(type(Taha))\n",
    "print(Taha)\n",
    "print(Taha.age)\n",
    "print(Taha.id)\n",
    "\n",
    "print('______')\n",
    "\n",
    "# Method 2\n",
    "user = {\n",
    "    'name': 'Taha',\n",
    "    'age': 30,\n",
    "    'id': 1\n",
    "}\n",
    "\n",
    "Taha = User(**user) #unpack\n",
    "print(Taha)\n",
    "\n"
   ]
  }
 ],
 "metadata": {
  "kernelspec": {
   "display_name": "packages",
   "language": "python",
   "name": "python3"
  },
  "language_info": {
   "codemirror_mode": {
    "name": "ipython",
    "version": 3
   },
   "file_extension": ".py",
   "mimetype": "text/x-python",
   "name": "python",
   "nbconvert_exporter": "python",
   "pygments_lexer": "ipython3",
   "version": "3.10.9"
  }
 },
 "nbformat": 4,
 "nbformat_minor": 2
}
