{
 "cells": [
  {
   "cell_type": "markdown",
   "metadata": {},
   "source": [
    "### Here I test stuff"
   ]
  },
  {
   "cell_type": "code",
   "execution_count": 1,
   "metadata": {},
   "outputs": [
    {
     "name": "stdout",
     "output_type": "stream",
     "text": [
      "Error executing command: ['git', 'add', 'path_to_your_file']\n",
      "Error message: fatal: pathspec 'path_to_your_file' did not match any files\n",
      "\n",
      "Failed to add path_to_your_file to git.\n"
     ]
    }
   ],
   "source": [
    "import os\n",
    "import sys\n",
    "\n",
    "current_dir = os.getcwd()\n",
    "parrent_dir = os.path.abspath(os.path.join(current_dir, '..'))\n",
    "sys.path.append(parrent_dir)\n",
    "\n",
    "from Update_Git import git_add, git_commit, git_push\n",
    "\n",
    "add_file = os.path.join(current_dir, 'test.ipynb')\n",
    "git_add(add_file)\n",
    "git_commit('test updated')\n",
    "git_push('main')\n"
   ]
  }
 ],
 "metadata": {
  "kernelspec": {
   "display_name": "packages",
   "language": "python",
   "name": "python3"
  },
  "language_info": {
   "codemirror_mode": {
    "name": "ipython",
    "version": 3
   },
   "file_extension": ".py",
   "mimetype": "text/x-python",
   "name": "python",
   "nbconvert_exporter": "python",
   "pygments_lexer": "ipython3",
   "version": "3.10.9"
  }
 },
 "nbformat": 4,
 "nbformat_minor": 2
}
