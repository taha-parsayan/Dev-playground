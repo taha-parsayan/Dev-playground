{
 "cells": [
  {
   "cell_type": "code",
   "execution_count": 7,
   "metadata": {},
   "outputs": [],
   "source": [
    "! pip install --upgrade --quiet  langchain-openai tavily-python"
   ]
  },
  {
   "cell_type": "code",
   "execution_count": null,
   "metadata": {},
   "outputs": [],
   "source": [
    "! pip install --upgrade langchain"
   ]
  },
  {
   "cell_type": "code",
   "execution_count": null,
   "metadata": {},
   "outputs": [
    {
     "ename": "NameError",
     "evalue": "name 'create_openapi_functions_agent' is not defined",
     "output_type": "error",
     "traceback": [
      "\u001b[1;31m---------------------------------------------------------------------------\u001b[0m",
      "\u001b[1;31mNameError\u001b[0m                                 Traceback (most recent call last)",
      "Cell \u001b[1;32mIn[16], line 49\u001b[0m\n\u001b[0;32m     41\u001b[0m prompt \u001b[38;5;241m=\u001b[39m ChatPromptTemplate\u001b[38;5;241m.\u001b[39mfrom_messages([\n\u001b[0;32m     42\u001b[0m     (\u001b[38;5;124m'\u001b[39m\u001b[38;5;124msystem\u001b[39m\u001b[38;5;124m'\u001b[39m, \u001b[38;5;124m'\u001b[39m\u001b[38;5;124mYou are a friendly assisstant called gyris\u001b[39m\u001b[38;5;124m'\u001b[39m),\n\u001b[0;32m     43\u001b[0m     (\u001b[38;5;124m'\u001b[39m\u001b[38;5;124mhuman\u001b[39m\u001b[38;5;124m'\u001b[39m, \u001b[38;5;124m'\u001b[39m\u001b[38;5;132;01m{input}\u001b[39;00m\u001b[38;5;124m'\u001b[39m),\n\u001b[0;32m     44\u001b[0m     MessagesPlaceholder(variable_name \u001b[38;5;241m=\u001b[39m \u001b[38;5;124m\"\u001b[39m\u001b[38;5;124magent_scratchpad\u001b[39m\u001b[38;5;124m\"\u001b[39m)\n\u001b[0;32m     45\u001b[0m ])\n\u001b[0;32m     47\u001b[0m tools \u001b[38;5;241m=\u001b[39m []\n\u001b[1;32m---> 49\u001b[0m agent \u001b[38;5;241m=\u001b[39m \u001b[43mcreate_openapi_functions_agent\u001b[49m(\n\u001b[0;32m     50\u001b[0m     llm \u001b[38;5;241m=\u001b[39m model,\n\u001b[0;32m     51\u001b[0m     prompt \u001b[38;5;241m=\u001b[39m prompt,\n\u001b[0;32m     52\u001b[0m     tools \u001b[38;5;241m=\u001b[39m tools\n\u001b[0;32m     53\u001b[0m )\n\u001b[0;32m     55\u001b[0m agentExecutor \u001b[38;5;241m=\u001b[39m AgentExecutor(\n\u001b[0;32m     56\u001b[0m     agent \u001b[38;5;241m=\u001b[39m agent,\n\u001b[0;32m     57\u001b[0m     tools \u001b[38;5;241m=\u001b[39m tools\n\u001b[0;32m     58\u001b[0m )\n",
      "\u001b[1;31mNameError\u001b[0m: name 'create_openapi_functions_agent' is not defined"
     ]
    }
   ],
   "source": [
    "import os\n",
    "import sys\n",
    "import numpy as np\n",
    "from langchain_openai import ChatOpenAI\n",
    "from langchain_core.prompts import ChatPromptTemplate\n",
    "from langchain_core.output_parsers import StrOutputParser, CommaSeparatedListOutputParser, JsonOutputParser\n",
    "from langchain_core.pydantic_v1 import BaseModel, Field\n",
    "from dotenv import load_dotenv\n",
    "from langchain_core.messages import HumanMessage, AIMessage\n",
    "from langchain_core.prompts import MessagesPlaceholder\n",
    "from langchain_community.document_loaders import WebBaseLoader\n",
    "from langchain.chains.combine_documents import create_stuff_documents_chain\n",
    "from langchain_openai import OpenAIEmbeddings\n",
    "from langchain.text_splitter import RecursiveCharacterTextSplitter\n",
    "from langchain_community.vectorstores.faiss import FAISS\n",
    "from langchain.chains import create_retrieval_chain\n",
    "from langchain.agents import AgentExecutor, create_openai_functions_agent\n",
    ",\n",
    "current_path = os.getcwd()\n",
    "parrent_path = os.path.abspath(os.path.join(current_path, '..'))\n",
    "sys.path.append(parrent_path)\n",
    "\n",
    "from Update_Git import git_add, git_commit, git_push\n",
    "\n",
    "file_path = os.path.join(current_path, 'Test_6.ipynb')\n",
    "git_add(file_path)\n",
    "git_commit('Updated test 6')\n",
    "git_push('main')\n",
    "\n",
    "os.environ.pop(\"OPENAI_API_KEY\", None) # Because it loads a key from some place I dont know!\n",
    "env_path = os.path.join(current_path, \".env\")\n",
    "load_dotenv(dotenv_path=env_path)\n",
    "\n",
    "\n",
    "\n",
    "model = ChatOpenAI(\n",
    "    model = 'gpt-3.5-turbo',\n",
    "    temperature=0.5\n",
    ")\n",
    "\n",
    "prompt = ChatPromptTemplate.from_messages([\n",
    "    ('system', 'You are a friendly assisstant called gyris'),\n",
    "    ('human', '{input}'),\n",
    "    MessagesPlaceholder(variable_name = \"agent_scratchpad\")\n",
    "])\n",
    "\n",
    "tools = []\n",
    "\n",
    "agent = create_openai_functions_agent(\n",
    "    llm = model,\n",
    "    prompt = prompt,\n",
    "    tools = tools\n",
    ")\n",
    "\n",
    "agentExecutor = AgentExecutor(\n",
    "    agent = agent,\n",
    "    tools = tools\n",
    ")"
   ]
  }
 ],
 "metadata": {
  "kernelspec": {
   "display_name": "packages",
   "language": "python",
   "name": "python3"
  },
  "language_info": {
   "codemirror_mode": {
    "name": "ipython",
    "version": 3
   },
   "file_extension": ".py",
   "mimetype": "text/x-python",
   "name": "python",
   "nbconvert_exporter": "python",
   "pygments_lexer": "ipython3",
   "version": "3.10.9"
  }
 },
 "nbformat": 4,
 "nbformat_minor": 2
}
