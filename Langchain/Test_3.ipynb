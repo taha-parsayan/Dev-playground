{
 "cells": [
  {
   "cell_type": "code",
   "execution_count": null,
   "metadata": {},
   "outputs": [
    {
     "name": "stdout",
     "output_type": "stream",
     "text": [
      "Error executing command: ['git', 'add', 'path_to_your_file']\n",
      "Error message: fatal: pathspec 'path_to_your_file' did not match any files\n",
      "\n",
      "Failed to add path_to_your_file to git.\n"
     ]
    },
    {
     "ename": "NameError",
     "evalue": "name 'load_dotenv' is not defined",
     "output_type": "error",
     "traceback": [
      "\u001b[31m---------------------------------------------------------------------------\u001b[39m",
      "\u001b[31mNameError\u001b[39m                                 Traceback (most recent call last)",
      "\u001b[36mCell\u001b[39m\u001b[36m \u001b[39m\u001b[32mIn[1]\u001b[39m\u001b[32m, line 12\u001b[39m\n\u001b[32m     10\u001b[39m os.environ.pop(\u001b[33m\"\u001b[39m\u001b[33mOPENAI_API_KEY\u001b[39m\u001b[33m\"\u001b[39m, \u001b[38;5;28;01mNone\u001b[39;00m) \u001b[38;5;66;03m# Because it loads a key from some place I dont know!\u001b[39;00m\n\u001b[32m     11\u001b[39m env_path = os.path.join(current_dir, \u001b[33m\"\u001b[39m\u001b[33m.env\u001b[39m\u001b[33m\"\u001b[39m)\n\u001b[32m---> \u001b[39m\u001b[32m12\u001b[39m \u001b[43mload_dotenv\u001b[49m(dotenv_path=env_path)\n\u001b[32m     14\u001b[39m add_file = os.path.join(current_dir, \u001b[33m'\u001b[39m\u001b[33mTest_3.ipynb\u001b[39m\u001b[33m'\u001b[39m)\n\u001b[32m     15\u001b[39m git_add(add_file)\n",
      "\u001b[31mNameError\u001b[39m: name 'load_dotenv' is not defined"
     ]
    }
   ],
   "source": [
    "import os\n",
    "import sys\n",
    "import langchain\n",
    "import subprocess\n",
    "from dotenv import load_dotenv\n",
    "\n",
    "current_dir = os.getcwd()\n",
    "parent_dir = os.path.abspath(os.path.join(current_dir, '..'))\n",
    "sys.path.append(parent_dir)\n",
    "from Update_Git import git_add, git_commit, git_push\n",
    "\n",
    "os.environ.pop(\"OPENAI_API_KEY\", None) # Because it loads a key from some place I dont know!\n",
    "env_path = os.path.join(current_dir, \".env\")\n",
    "load_dotenv(dotenv_path=env_path)\n",
    "\n",
    "add_file = os.path.join(current_dir, 'Test_3.ipynb')\n",
    "git_add(add_file)\n",
    "git_commit('Test 3 updated')\n",
    "git_push('main')"
   ]
  },
  {
   "cell_type": "code",
   "execution_count": null,
   "metadata": {},
   "outputs": [
    {
     "name": "stdout",
     "output_type": "stream",
     "text": [
      "1. Pleasant\n",
      "2. Agreeable\n",
      "3. Charming\n"
     ]
    }
   ],
   "source": [
    "from langchain_openai import ChatOpenAI\n",
    "from langchain_core.prompts import ChatPromptTemplate\n",
    "from langchain_core.output_parsers import StrOutputParser, CommaSeparatedListOutputParser, JsonOutputParser\n",
    "from langchain_core.pydantic_v1 import BaseModel, Field\n",
    "\n",
    "llm = ChatOpenAI(\n",
    "    model = \"gpt-3.5-turbo\",\n",
    "    temperature=0.5\n",
    ")\n",
    "\n",
    "def call_string_output_parser():\n",
    "    prompt = ChatPromptTemplate.from_messages([\n",
    "        (\"system\", \"You are an AI chef. Give me 3 synonyms for the following word.\"),\n",
    "        (\"human\", \"{input}\")\n",
    "    ])\n",
    "\n",
    "    parser = StrOutputParser()\n",
    "\n",
    "    chain = prompt | llm | parser\n",
    "\n",
    "    # The output of llm is a AI message, se we need to convert it to a string\n",
    "    # The outout of the parser is a string\n",
    "\n",
    "    return chain.invoke(\"nice\")\n",
    "                        \n",
    "print(call_string_output_parser())\n"
   ]
  },
  {
   "cell_type": "code",
   "execution_count": 5,
   "metadata": {},
   "outputs": [
    {
     "name": "stdout",
     "output_type": "stream",
     "text": [
      "['dawn', 'daybreak', 'sunrise']\n"
     ]
    }
   ],
   "source": [
    "def call_list_output_parser():\n",
    "    prompt = ChatPromptTemplate.from_messages([\n",
    "        (\"system\", \"Give me 3 synonyms for the following word, separated by commas.\"),\n",
    "        (\"human\", \"{input}\")\n",
    "    ])\n",
    "\n",
    "    parser = CommaSeparatedListOutputParser() # Output is a list of strings\n",
    "\n",
    "    chain = prompt | llm | parser\n",
    "\n",
    "    return chain.invoke(\"morning\")\n",
    "\n",
    "print(call_list_output_parser())"
   ]
  },
  {
   "cell_type": "code",
   "execution_count": 7,
   "metadata": {},
   "outputs": [
    {
     "name": "stdout",
     "output_type": "stream",
     "text": [
      "{'name': 'John', 'age': 30}\n"
     ]
    }
   ],
   "source": [
    "def call_json_output_parser():\n",
    "    prompt = ChatPromptTemplate.from_messages([\n",
    "        (\"system\", \"Extract information from the following phrase.\\n Formatting instructuions: {format_instructions}\"),\n",
    "        (\"human\", \"{input}\")\n",
    "    ])\n",
    "\n",
    "    class Person(BaseModel):\n",
    "        name: str = Field(description=\"The name of the persom\")\n",
    "        age: int = Field(description=\"The age of the person\")\n",
    "    \n",
    "    parser = JsonOutputParser(pydantic_object=Person)\n",
    "\n",
    "    chain = prompt | llm | parser\n",
    "\n",
    "    # print(parser.get_format_instructions())\n",
    "\n",
    "    return chain.invoke({\n",
    "        \"input\": \"John is 30 years old.\",\n",
    "         \"format_instructions\": parser.get_format_instructions()\n",
    "\n",
    "    })\n",
    "\n",
    "print(call_json_output_parser())\n",
    "# Output is a dictionary !!!"
   ]
  },
  {
   "cell_type": "code",
   "execution_count": 23,
   "metadata": {},
   "outputs": [
    {
     "name": "stdout",
     "output_type": "stream",
     "text": [
      "{'recipie': 'ghormesabzi', 'ingredients': ['rice', 'beans', 'beef', 'lime', 'herbs']}\n"
     ]
    }
   ],
   "source": [
    "def call_json_output_parser():\n",
    "    prompt = ChatPromptTemplate.from_messages([\n",
    "        (\"system\", \"Extract information from the following phrase.\\n Formatting instructuions: {format_instructions}\"),\n",
    "        (\"human\", \"{input}\")\n",
    "    ])\n",
    "\n",
    "    class Food(BaseModel):\n",
    "        recipie: str = Field(description=\"The name of the recipie\")\n",
    "        ingredients: list = Field(description=\"Ingredients\")\n",
    "    \n",
    "    parser = JsonOutputParser(pydantic_object=Food)\n",
    "\n",
    "    chain = prompt | llm | parser\n",
    "\n",
    "    return chain.invoke({\n",
    "        \"input\": \"The ingredients for ghormesabzi are rice, beans, beef, lime, and herbs.\",\n",
    "         \"format_instructions\": parser.get_format_instructions()\n",
    "\n",
    "    })\n",
    "\n",
    "print(call_json_output_parser())\n"
   ]
  }
 ],
 "metadata": {
  "kernelspec": {
   "display_name": ".venv",
   "language": "python",
   "name": "python3"
  },
  "language_info": {
   "codemirror_mode": {
    "name": "ipython",
    "version": 3
   },
   "file_extension": ".py",
   "mimetype": "text/x-python",
   "name": "python",
   "nbconvert_exporter": "python",
   "pygments_lexer": "ipython3",
   "version": "3.12.10"
  }
 },
 "nbformat": 4,
 "nbformat_minor": 2
}
