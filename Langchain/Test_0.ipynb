{
 "cells": [
  {
   "cell_type": "markdown",
   "metadata": {},
   "source": [
    "### Here I test stuff"
   ]
  },
  {
   "cell_type": "code",
   "execution_count": null,
   "metadata": {},
   "outputs": [
    {
     "name": "stdout",
     "output_type": "stream",
     "text": [
      "Error executing command: ['git', 'add', 'd:\\\\Python-codes\\\\Test_codes\\\\Langchain\\\\test.ipynb']\n",
      "Error message: fatal: pathspec 'd:\\Python-codes\\Test_codes\\Langchain\\test.ipynb' did not match any files\n",
      "\n",
      "Error executing command: ['git', 'commit', '-m', 'test updated']\n",
      "Error message: \n",
      "Error executing command: ['git', 'add', 'd:\\\\Python-codes\\\\Test_codes\\\\Langchain\\\\test.ipynb']\n",
      "Error message: fatal: pathspec 'd:\\Python-codes\\Test_codes\\Langchain\\test.ipynb' did not match any files\n",
      "\n",
      "Error executing command: ['git', 'commit', '-m', 'test updated']\n",
      "Error message: \n",
      "Error executing command: ['git', 'add', 'd:\\\\Python-codes\\\\Test_codes\\\\Langchain\\\\test.ipynb']\n",
      "Error message: fatal: pathspec 'd:\\Python-codes\\Test_codes\\Langchain\\test.ipynb' did not match any files\n",
      "\n",
      "Error executing command: ['git', 'commit', '-m', 'test updated']\n",
      "Error message: \n",
      "Error executing command: ['git', 'add', 'd:\\\\Python-codes\\\\Test_codes\\\\Langchain\\\\test.ipynb']\n",
      "Error message: fatal: pathspec 'd:\\Python-codes\\Test_codes\\Langchain\\test.ipynb' did not match any files\n",
      "\n",
      "Error executing command: ['git', 'commit', '-m', 'test updated']\n",
      "Error message: \n",
      "Error executing command: ['git', 'add', 'd:\\\\Python-codes\\\\Test_codes\\\\Langchain\\\\test.ipynb']\n",
      "Error message: fatal: pathspec 'd:\\Python-codes\\Test_codes\\Langchain\\test.ipynb' did not match any files\n",
      "\n",
      "Error executing command: ['git', 'commit', '-m', 'test updated']\n",
      "Error message: \n",
      "Error executing command: ['git', 'add', 'd:\\\\Python-codes\\\\Test_codes\\\\Langchain\\\\test.ipynb']\n",
      "Error message: fatal: pathspec 'd:\\Python-codes\\Test_codes\\Langchain\\test.ipynb' did not match any files\n",
      "\n",
      "Error executing command: ['git', 'commit', '-m', 'test updated']\n",
      "Error message: \n",
      "Error executing command: ['git', 'add', 'd:\\\\Python-codes\\\\Test_codes\\\\Langchain\\\\test.ipynb']\n",
      "Error message: fatal: pathspec 'd:\\Python-codes\\Test_codes\\Langchain\\test.ipynb' did not match any files\n",
      "\n",
      "Error executing command: ['git', 'commit', '-m', 'test updated']\n",
      "Error message: \n",
      "Error executing command: ['git', 'add', 'd:\\\\Python-codes\\\\Test_codes\\\\Langchain\\\\test.ipynb']\n",
      "Error message: fatal: pathspec 'd:\\Python-codes\\Test_codes\\Langchain\\test.ipynb' did not match any files\n",
      "\n",
      "Error executing command: ['git', 'commit', '-m', 'test updated']\n",
      "Error message: \n",
      "Error executing command: ['git', 'add', 'd:\\\\Python-codes\\\\Test_codes\\\\Langchain\\\\test.ipynb']\n",
      "Error message: fatal: pathspec 'd:\\Python-codes\\Test_codes\\Langchain\\test.ipynb' did not match any files\n",
      "\n",
      "Error executing command: ['git', 'commit', '-m', 'test updated']\n",
      "Error message: \n",
      "Error executing command: ['git', 'add', 'd:\\\\Python-codes\\\\Test_codes\\\\Langchain\\\\test.ipynb']\n",
      "Error message: fatal: pathspec 'd:\\Python-codes\\Test_codes\\Langchain\\test.ipynb' did not match any files\n",
      "\n",
      "Error executing command: ['git', 'commit', '-m', 'test updated']\n",
      "Error message: \n",
      "Error executing command: ['git', 'add', 'd:\\\\Python-codes\\\\Test_codes\\\\Langchain\\\\test.ipynb']\n",
      "Error message: fatal: pathspec 'd:\\Python-codes\\Test_codes\\Langchain\\test.ipynb' did not match any files\n",
      "\n",
      "Error executing command: ['git', 'commit', '-m', 'test updated']\n",
      "Error message: \n",
      "Error executing command: ['git', 'add', 'd:\\\\Python-codes\\\\Test_codes\\\\Langchain\\\\test.ipynb']\n",
      "Error message: fatal: pathspec 'd:\\Python-codes\\Test_codes\\Langchain\\test.ipynb' did not match any files\n",
      "\n",
      "Error executing command: ['git', 'commit', '-m', 'test updated']\n",
      "Error message: \n"
     ]
    }
   ],
   "source": [
    "import os\n",
    "import sys\n",
    "from pydantic import BaseModel, Field\n",
    "\n",
    "current_dir = os.getcwd()\n",
    "parrent_dir = os.path.abspath(os.path.join(current_dir, '..'))\n",
    "sys.path.append(parrent_dir)\n",
    "\n",
    "from Update_Git import git_add, git_commit, git_push\n",
    "\n",
    "add_file = os.path.join(current_dir, 'Test_0.ipynb')\n",
    "git_add(add_file)\n",
    "git_commit('test updated')\n",
    "git_push('main')\n"
   ]
  },
  {
   "cell_type": "code",
   "execution_count": 2,
   "metadata": {},
   "outputs": [
    {
     "name": "stdout",
     "output_type": "stream",
     "text": [
      "<class '__main__.User'>\n",
      "name='Taha' age=30 id=1\n",
      "30\n",
      "1\n",
      "______\n",
      "name='Taha' age=30 id=1\n"
     ]
    }
   ],
   "source": [
    "class User(BaseModel):\n",
    "    name: str\n",
    "    age: int\n",
    "    id: int\n",
    "\n",
    "# Method 1\n",
    "Taha = User(\n",
    "    name='Taha',\n",
    "    age=30,\n",
    "    id=1\n",
    ")\n",
    "\n",
    "print(type(Taha))\n",
    "print(Taha)\n",
    "print(Taha.age)\n",
    "print(Taha.id)\n",
    "\n",
    "print('______')\n",
    "\n",
    "# Method 2\n",
    "user = {\n",
    "    'name': 'Taha',\n",
    "    'age': 30,\n",
    "    'id': 1\n",
    "}\n",
    "\n",
    "Taha = User(**user) #unpack\n",
    "print(Taha)\n",
    "\n"
   ]
  },
  {
   "cell_type": "markdown",
   "metadata": {},
   "source": [
    "### Email validation"
   ]
  },
  {
   "cell_type": "code",
   "execution_count": null,
   "metadata": {},
   "outputs": [],
   "source": [
    "!pip install pydantic[email]"
   ]
  },
  {
   "cell_type": "code",
   "execution_count": 3,
   "metadata": {},
   "outputs": [],
   "source": [
    "from pydantic import EmailStr\n",
    "\n",
    "class User(BaseModel):\n",
    "    name: str\n",
    "    email: EmailStr\n",
    "    age: int\n",
    "\n",
    "user = {\n",
    "    'name': 'Taha',\n",
    "    'email': 'i am thirsty',\n",
    "    'age': 30\n",
    "}\n",
    "\n",
    "#Taha = User(**user) # -> Validation Error\n",
    "\n",
    "user = {\n",
    "    'name': 'Taha',\n",
    "    'email': 'thirsty@gmail.com',\n",
    "    'age': 30\n",
    "}\n",
    "\n",
    "Taha = User(**user) # -> No Error"
   ]
  },
  {
   "cell_type": "markdown",
   "metadata": {},
   "source": [
    "### If the validation needs to be customized"
   ]
  },
  {
   "cell_type": "code",
   "execution_count": 11,
   "metadata": {},
   "outputs": [
    {
     "name": "stdout",
     "output_type": "stream",
     "text": [
      "1 validation error for User\n",
      "age\n",
      "  Value error, age must be positive [type=value_error, input_value=-30, input_type=int]\n",
      "    For further information visit https://errors.pydantic.dev/2.10/v/value_error\n"
     ]
    }
   ],
   "source": [
    "from pydantic import field_validator\n",
    "\n",
    "class User(BaseModel):\n",
    "    name: str\n",
    "    email: EmailStr\n",
    "    age: int\n",
    "\n",
    "    @field_validator('age')\n",
    "    @classmethod\n",
    "    def age_must_be_positive(cls, value):\n",
    "        if value < 0:\n",
    "            raise ValueError('age must be positive')\n",
    "        return value\n",
    "\n",
    "user = {\n",
    "    'name': 'Taha',\n",
    "    'email': 'taha@gmail.com',\n",
    "    'age': -30\n",
    "}\n",
    "\n",
    "try:\n",
    "    Taha = User(**user) # -> Validation Error\n",
    "except Exception as e:\n",
    "    print(e)"
   ]
  },
  {
   "cell_type": "markdown",
   "metadata": {},
   "source": [
    "### Decorator"
   ]
  },
  {
   "cell_type": "code",
   "execution_count": 13,
   "metadata": {},
   "outputs": [
    {
     "name": "stdout",
     "output_type": "stream",
     "text": [
      "Hello\n",
      "Time taken: 2.009885787963867\n"
     ]
    }
   ],
   "source": [
    "import time\n",
    "\n",
    "def tiktok(func):\n",
    "    t1 = time.time()\n",
    "    func()\n",
    "    t2 = time.time()\n",
    "\n",
    "    print(f'Time taken: {t2-t1}')\n",
    "\n",
    "\n",
    "@tiktok\n",
    "def test():\n",
    "    time.sleep(2)\n",
    "    print('Hello')"
   ]
  }
 ],
 "metadata": {
  "kernelspec": {
   "display_name": "packages",
   "language": "python",
   "name": "python3"
  },
  "language_info": {
   "codemirror_mode": {
    "name": "ipython",
    "version": 3
   },
   "file_extension": ".py",
   "mimetype": "text/x-python",
   "name": "python",
   "nbconvert_exporter": "python",
   "pygments_lexer": "ipython3",
   "version": "3.10.9"
  }
 },
 "nbformat": 4,
 "nbformat_minor": 2
}
