{
 "cells": [
  {
   "cell_type": "markdown",
   "metadata": {},
   "source": [
    "### Lets learn Langchain!"
   ]
  },
  {
   "cell_type": "markdown",
   "metadata": {},
   "source": [
    "Install packages"
   ]
  },
  {
   "cell_type": "code",
   "execution_count": null,
   "metadata": {},
   "outputs": [],
   "source": [
    "! pip install pydantic --break-system-packages"
   ]
  },
  {
   "cell_type": "code",
   "execution_count": 7,
   "metadata": {},
   "outputs": [
    {
     "data": {
      "text/plain": [
       "''"
      ]
     },
     "execution_count": 7,
     "metadata": {},
     "output_type": "execute_result"
    }
   ],
   "source": [
    "import os\n",
    "import sys\n",
    "from pydantic import BaseModel, Field\n",
    "\n",
    "current_dir = os.getcwd()\n",
    "parrent_dir = os.path.abspath(os.path.join(current_dir, '..'))\n",
    "sys.path.append(parrent_dir)\n",
    "\n",
    "from Update_Git import git_add, git_commit, git_push\n",
    "\n",
    "add_file = os.path.join(current_dir, 'Test_0.ipynb')\n",
    "git_add(add_file)\n",
    "git_commit('test updated')\n",
    "git_push('main')\n"
   ]
  },
  {
   "cell_type": "code",
   "execution_count": null,
   "metadata": {},
   "outputs": [],
   "source": [
    "class User(BaseModel):\n",
    "    name: str\n",
    "    age: int\n",
    "    id: int\n",
    "\n",
    "# Method 1\n",
    "Taha = User(\n",
    "    name='Taha',\n",
    "    age=30,\n",
    "    id=1\n",
    ")\n",
    "\n",
    "print(type(Taha))\n",
    "print(Taha)\n",
    "print(Taha.age)\n",
    "print(Taha.id)\n",
    "\n",
    "print('______')\n",
    "\n",
    "# Method 2\n",
    "user = {\n",
    "    'name': 'Taha',\n",
    "    'age': 30,\n",
    "    'id': 1\n",
    "}\n",
    "\n",
    "Taha = User(**user) #unpack\n",
    "print(Taha)\n",
    "\n"
   ]
  },
  {
   "cell_type": "markdown",
   "metadata": {},
   "source": [
    "### Email validation"
   ]
  },
  {
   "cell_type": "code",
   "execution_count": null,
   "metadata": {},
   "outputs": [],
   "source": [
    "!pip install pydantic[email]"
   ]
  },
  {
   "cell_type": "code",
   "execution_count": null,
   "metadata": {},
   "outputs": [],
   "source": [
    "from pydantic import EmailStr\n",
    "\n",
    "class User(BaseModel):\n",
    "    name: str\n",
    "    email: EmailStr\n",
    "    age: int\n",
    "\n",
    "user = {\n",
    "    'name': 'Taha',\n",
    "    'email': 'i am thirsty',\n",
    "    'age': 30\n",
    "}\n",
    "\n",
    "#Taha = User(**user) # -> Validation Error\n",
    "\n",
    "user = {\n",
    "    'name': 'Taha',\n",
    "    'email': 'thirsty@gmail.com',\n",
    "    'age': 30\n",
    "}\n",
    "\n",
    "Taha = User(**user) # -> No Error"
   ]
  },
  {
   "cell_type": "markdown",
   "metadata": {},
   "source": [
    "### If the validation needs to be customized"
   ]
  },
  {
   "cell_type": "code",
   "execution_count": null,
   "metadata": {},
   "outputs": [],
   "source": [
    "from pydantic import field_validator\n",
    "\n",
    "class User(BaseModel):\n",
    "    name: str\n",
    "    email: EmailStr\n",
    "    age: int\n",
    "\n",
    "    @field_validator('age')\n",
    "    @classmethod\n",
    "    def age_must_be_positive(cls, value):\n",
    "        if value < 0:\n",
    "            raise ValueError('age must be positive')\n",
    "        return value\n",
    "\n",
    "user = {\n",
    "    'name': 'Taha',\n",
    "    'email': 'taha@gmail.com',\n",
    "    'age': -30\n",
    "}\n",
    "\n",
    "try:\n",
    "    Taha = User(**user) # -> Validation Error\n",
    "except Exception as e:\n",
    "    print(e)"
   ]
  },
  {
   "cell_type": "markdown",
   "metadata": {},
   "source": [
    "### Decorator"
   ]
  },
  {
   "cell_type": "code",
   "execution_count": null,
   "metadata": {},
   "outputs": [],
   "source": [
    "import time\n",
    "\n",
    "def tiktok(func):\n",
    "    t1 = time.time()\n",
    "    func()\n",
    "    t2 = time.time()\n",
    "\n",
    "    print(f'Time taken: {t2-t1}')\n",
    "\n",
    "\n",
    "@tiktok\n",
    "def test():\n",
    "    time.sleep(2)\n",
    "    print('Hello')"
   ]
  }
 ],
 "metadata": {
  "kernelspec": {
   "display_name": ".venv",
   "language": "python",
   "name": "python3"
  },
  "language_info": {
   "codemirror_mode": {
    "name": "ipython",
    "version": 3
   },
   "file_extension": ".py",
   "mimetype": "text/x-python",
   "name": "python",
   "nbconvert_exporter": "python",
   "pygments_lexer": "ipython3",
   "version": "3.12.10"
  }
 },
 "nbformat": 4,
 "nbformat_minor": 2
}
