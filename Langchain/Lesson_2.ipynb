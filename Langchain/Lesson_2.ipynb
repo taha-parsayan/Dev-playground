{
 "cells": [
  {
   "cell_type": "markdown",
   "metadata": {},
   "source": [
    "### Lesson 2"
   ]
  },
  {
   "cell_type": "code",
   "execution_count": 1,
   "metadata": {},
   "outputs": [
    {
     "name": "stdout",
     "output_type": "stream",
     "text": [
      "Error executing command: ['git', 'add', 'path_to_your_file']\n",
      "Error message: fatal: pathspec 'path_to_your_file' did not match any files\n",
      "\n",
      "Failed to add path_to_your_file to git.\n"
     ]
    },
    {
     "data": {
      "text/plain": [
       "True"
      ]
     },
     "execution_count": 1,
     "metadata": {},
     "output_type": "execute_result"
    }
   ],
   "source": [
    "import os\n",
    "import sys\n",
    "import langchain\n",
    "import subprocess\n",
    "current_dir = os.getcwd()\n",
    "parent_dir = os.path.abspath(os.path.join(current_dir, '..'))\n",
    "sys.path.append(parent_dir)\n",
    "from Update_Git import git_add, git_commit, git_push\n",
    "from langchain_openai import ChatOpenAI\n",
    "from dotenv import load_dotenv\n",
    "\n",
    "os.environ.pop(\"OPENAI_API_KEY\", None) # Because it loads a key from some place I dont know!\n",
    "env_path = os.path.join(current_dir, \".env\")\n",
    "load_dotenv(dotenv_path=env_path)"
   ]
  },
  {
   "cell_type": "code",
   "execution_count": null,
   "metadata": {},
   "outputs": [],
   "source": [
    "add_file = os.path.join(current_dir, 'Lesson_2.ipynb')\n",
    "git_add(add_file)\n",
    "git_commit('Lesson 2 updated')\n",
    "git_push('main')"
   ]
  },
  {
   "cell_type": "code",
   "execution_count": 6,
   "metadata": {},
   "outputs": [
    {
     "name": "stdout",
     "output_type": "stream",
     "text": [
      "content='The capital of France is Paris.' additional_kwargs={'refusal': None} response_metadata={'token_usage': {'completion_tokens': 8, 'prompt_tokens': 14, 'total_tokens': 22, 'completion_tokens_details': {'accepted_prediction_tokens': 0, 'audio_tokens': 0, 'reasoning_tokens': 0, 'rejected_prediction_tokens': 0}, 'prompt_tokens_details': {'audio_tokens': 0, 'cached_tokens': 0}}, 'model_name': 'gpt-3.5-turbo-0125', 'system_fingerprint': None, 'finish_reason': 'stop', 'logprobs': None} id='run-0dcd5f68-c243-49c5-bf69-1f566605153f-0' usage_metadata={'input_tokens': 14, 'output_tokens': 8, 'total_tokens': 22, 'input_token_details': {'audio': 0, 'cache_read': 0}, 'output_token_details': {'audio': 0, 'reasoning': 0}}\n"
     ]
    }
   ],
   "source": [
    "llm = ChatOpenAI(\n",
    "    model = \"gpt-3.5-turbo\",\n",
    "    temperature=0.5\n",
    ")\n",
    "\n",
    "response = llm.invoke(\"What is the capital of France?\")\n",
    "print(response)"
   ]
  },
  {
   "cell_type": "code",
   "execution_count": 11,
   "metadata": {},
   "outputs": [
    {
     "name": "stdout",
     "output_type": "stream",
     "text": [
      "content='Copenhagen' additional_kwargs={'refusal': None} response_metadata={'token_usage': {'completion_tokens': 3, 'prompt_tokens': 14, 'total_tokens': 17, 'completion_tokens_details': {'accepted_prediction_tokens': 0, 'audio_tokens': 0, 'reasoning_tokens': 0, 'rejected_prediction_tokens': 0}, 'prompt_tokens_details': {'audio_tokens': 0, 'cached_tokens': 0}}, 'model_name': 'gpt-3.5-turbo-0125', 'system_fingerprint': None, 'finish_reason': 'stop', 'logprobs': None} id='run-7feab4f4-27d6-42c4-8788-ec6bd15c394d-0' usage_metadata={'input_tokens': 14, 'output_tokens': 3, 'total_tokens': 17, 'input_token_details': {'audio': 0, 'cache_read': 0}, 'output_token_details': {'audio': 0, 'reasoning': 0}}\n"
     ]
    }
   ],
   "source": [
    "from langchain_core.prompts import ChatPromptTemplate\n",
    "\n",
    "# prompt template\n",
    "prompt = ChatPromptTemplate.from_template(\"What is the capital of {city}?\")\n",
    "\n",
    "# LLM chain\n",
    "chain = prompt | llm\n",
    "\n",
    "response = chain.invoke({\"city\" : \"Denmark\"})\n",
    "print(response)"
   ]
  },
  {
   "cell_type": "code",
   "execution_count": 12,
   "metadata": {},
   "outputs": [
    {
     "name": "stdout",
     "output_type": "stream",
     "text": [
      "content=\"Great choice! Here's a classic recipe for a delicious homemade pizza:\\n\\nIngredients:\\n- 1 ½ cups warm water (110°F)\\n- 2 ¼ tsp active dry yeast\\n- 1 tsp sugar\\n- 4 cups all-purpose flour\\n- 1 tsp salt\\n- 2 tbsp olive oil\\n- 1 cup pizza sauce\\n- 2 cups shredded mozzarella cheese\\n- Your favorite toppings (such as pepperoni, mushrooms, bell peppers, onions, olives, etc.)\\n\\nInstructions:\\n1. In a small bowl, combine the warm water, yeast, and sugar. Let it sit for about 5 minutes until the mixture becomes frothy.\\n\\n2. In a large mixing bowl, combine the flour and salt. Make a well in the center and pour in the yeast mixture and olive oil. Stir until a dough forms.\\n\\n3. Knead the dough on a floured surface for about 5-7 minutes until it becomes smooth and elastic. Place the dough in a greased bowl, cover with a damp cloth, and let it rise in a warm place for about 1-2 hours until it doubles in size.\\n\\n4. Preheat your oven to 475°F (245°C) and place a pizza stone or baking sheet in the oven to heat up.\\n\\n5. Punch down the dough and divide it into two equal portions. Roll out each portion into a round pizza crust on a floured surface.\\n\\n6. Place the pizza crusts on a pizza peel or parchment paper. Spread the pizza sauce evenly over the crusts, leaving a small border around the edges.\\n\\n7. Sprinkle the shredded mozzarella cheese over the sauce and add your desired toppings.\\n\\n8. Carefully slide the pizzas onto the preheated pizza stone or baking sheet in the oven. Bake for about 12-15 minutes, or until the crust is golden brown and the cheese is bubbly and melted.\\n\\n9. Remove the pizzas from the oven and let them cool slightly before slicing and serving.\\n\\nEnjoy your homemade pizza! Feel free to get creative with your toppings and make it your own.\" additional_kwargs={'refusal': None} response_metadata={'token_usage': {'completion_tokens': 428, 'prompt_tokens': 34, 'total_tokens': 462, 'completion_tokens_details': {'accepted_prediction_tokens': 0, 'audio_tokens': 0, 'reasoning_tokens': 0, 'rejected_prediction_tokens': 0}, 'prompt_tokens_details': {'audio_tokens': 0, 'cached_tokens': 0}}, 'model_name': 'gpt-3.5-turbo-0125', 'system_fingerprint': None, 'finish_reason': 'stop', 'logprobs': None} id='run-c8727ccd-5f82-479d-9367-9ecb0014d5a9-0' usage_metadata={'input_tokens': 34, 'output_tokens': 428, 'total_tokens': 462, 'input_token_details': {'audio': 0, 'cache_read': 0}, 'output_token_details': {'audio': 0, 'reasoning': 0}}\n"
     ]
    }
   ],
   "source": [
    "prompt = ChatPromptTemplate.from_messages([\n",
    "    (\"system\", \"You are an AI chef. You have to make a recipe for a dish.\"),\n",
    "    (\"human\", \"{input}\")\n",
    "])\n",
    "\n",
    "chain = prompt | llm\n",
    "response = chain.invoke({\"input\" : \"I want to make a pizza.\"})\n",
    "print(response)"
   ]
  }
 ],
 "metadata": {
  "kernelspec": {
   "display_name": "packages",
   "language": "python",
   "name": "python3"
  },
  "language_info": {
   "codemirror_mode": {
    "name": "ipython",
    "version": 3
   },
   "file_extension": ".py",
   "mimetype": "text/x-python",
   "name": "python",
   "nbconvert_exporter": "python",
   "pygments_lexer": "ipython3",
   "version": "3.10.9"
  }
 },
 "nbformat": 4,
 "nbformat_minor": 2
}
