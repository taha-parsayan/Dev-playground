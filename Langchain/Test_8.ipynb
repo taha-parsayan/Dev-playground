{
 "cells": [
  {
   "cell_type": "markdown",
   "metadata": {},
   "source": [
    "### Combination of Test 6 & 7\n",
    "AI agent with memory"
   ]
  },
  {
   "cell_type": "code",
   "execution_count": 1,
   "metadata": {},
   "outputs": [
    {
     "name": "stderr",
     "output_type": "stream",
     "text": [
      "USER_AGENT environment variable not set, consider setting it to identify your requests.\n"
     ]
    },
    {
     "data": {
      "text/plain": [
       "True"
      ]
     },
     "execution_count": 1,
     "metadata": {},
     "output_type": "execute_result"
    }
   ],
   "source": [
    "import os\n",
    "import sys\n",
    "from dotenv import load_dotenv\n",
    "\n",
    "# LangChain core components\n",
    "from langchain_openai import ChatOpenAI, OpenAIEmbeddings\n",
    "from langchain.prompts import ChatPromptTemplate, MessagesPlaceholder\n",
    "from langchain.memory import ConversationBufferMemory\n",
    "\n",
    "# Message history storage\n",
    "from langchain_community.chat_message_histories.upstash_redis import UpstashRedisChatMessageHistory\n",
    "\n",
    "# Document processing\n",
    "from langchain_community.document_loaders import WebBaseLoader\n",
    "from langchain.text_splitter import RecursiveCharacterTextSplitter\n",
    "\n",
    "# Vector stores\n",
    "from langchain_community.vectorstores.faiss import FAISS\n",
    "\n",
    "# Agents and tools\n",
    "from langchain.agents import AgentExecutor, create_openai_functions_agent\n",
    "from langchain_community.tools.tavily_search import TavilySearchResults\n",
    "from langchain.tools.retriever import create_retriever_tool\n",
    "\n",
    "\n",
    "current_path = os.getcwd()\n",
    "parrent_path = os.path.abspath(os.path.join(current_path, '..'))\n",
    "sys.path.append(parrent_path)\n",
    "\n",
    "from Update_Git import git_add, git_commit, git_push\n",
    "\n",
    "os.environ.pop(\"OPENAI_API_KEY\", None) # Because it loads a key from some place I dont know!\n",
    "env_path = os.path.join(current_path, \".env\")\n",
    "load_dotenv(dotenv_path=env_path)"
   ]
  },
  {
   "cell_type": "code",
   "execution_count": 23,
   "metadata": {},
   "outputs": [
    {
     "data": {
      "text/plain": [
       "''"
      ]
     },
     "execution_count": 23,
     "metadata": {},
     "output_type": "execute_result"
    }
   ],
   "source": [
    "file_path = os.path.join(current_path, 'Test_8.ipynb')\n",
    "git_add(file_path)\n",
    "git_commit('Updated test 8')\n",
    "git_push('main')"
   ]
  },
  {
   "cell_type": "markdown",
   "metadata": {},
   "source": [
    "Login to https://upstash.com/?utm_source=Leon_LangchainPython\n",
    "to save the chat history"
   ]
  },
  {
   "cell_type": "code",
   "execution_count": null,
   "metadata": {},
   "outputs": [],
   "source": [
    "! pip install upstash_redis"
   ]
  },
  {
   "cell_type": "code",
   "execution_count": null,
   "metadata": {},
   "outputs": [],
   "source": [
    "def load_and_process_document(url, chunk_size=1000, chunk_overlap=200):\n",
    "    \"\"\"Load a document from the web, split it into chunks, generate embeddings, and store them in a FAISS index.\"\"\"\n",
    "    loader = WebBaseLoader(url)\n",
    "    docs = loader.load()\n",
    "    splitter = RecursiveCharacterTextSplitter(chunk_size=chunk_size, chunk_overlap=chunk_overlap)\n",
    "    split_docs = splitter.split_documents(docs)\n",
    "    embedding = OpenAIEmbeddings()\n",
    "    vector_store = FAISS.from_documents(split_docs, embedding=embedding)\n",
    "    return vector_store.as_retriever(search_kwargs={\"k\": 5}), docs\n",
    "\n",
    "def initialize_chat_model():\n",
    "    \"\"\"Initialize the chat model with a prompt template.\"\"\"\n",
    "    return ChatOpenAI(model=\"gpt-3.5-turbo\", temperature=0.5)\n",
    "\n",
    "def create_prompt(context):\n",
    "    \"\"\"Create a structured prompt for the AI agent.\"\"\"\n",
    "    return ChatPromptTemplate.from_messages([\n",
    "        (\"system\", f\"You are a friendly AI assistant. Answer questions based on the context: {context}\"),\n",
    "        MessagesPlaceholder(variable_name=\"chat_history\"),\n",
    "        (\"human\", \"{input}\"),\n",
    "        MessagesPlaceholder(variable_name=\"agent_scratchpad\")\n",
    "    ])\n",
    "\n",
    "def initialize_memory():\n",
    "    \"\"\"Set up chat history storage with Upstash Redis.\"\"\"\n",
    "    history = UpstashRedisChatMessageHistory(\n",
    "        url=os.getenv(\"UPSTASH_REDIS_REST_URL\"),\n",
    "        token=os.getenv(\"UPSTASH_REDIS_REST_TOKEN\"),\n",
    "        session_id=\"chat_1\",\n",
    "        ttl=0  # Conversation will never expire\n",
    "    )\n",
    "    return ConversationBufferMemory(memory_key=\"chat_history\", return_messages=True, chat_memory=history)\n",
    "\n",
    "def create_agent(retriever, model, prompt, memory):\n",
    "    \"\"\"Create an AI agent with tools for document retrieval and web search.\"\"\"\n",
    "    retriever_tool = create_retriever_tool(retriever, \"toolbox_search\", \"Use this tool when searching for information about FreeSurfer\")\n",
    "    search_tool = TavilySearchResults()\n",
    "    tools = [search_tool, retriever_tool]\n",
    "    agent = create_openai_functions_agent(llm=model, prompt=prompt, tools=tools)\n",
    "    return AgentExecutor(agent=agent, tools=tools, memory=memory)\n",
    "\n",
    "def process_chat(agent_executor, user_input):\n",
    "    \"\"\"Process a chat query using the AI agent.\"\"\"\n",
    "    response = agent_executor.invoke({\"input\": user_input})\n",
    "    return response[\"output\"]\n",
    "\n",
    "def main():\n",
    "    \"\"\"Main function to run the chat interface.\"\"\"\n",
    "    retriever, docs = load_and_process_document(\"https://en.wikipedia.org/wiki/FreeSurfer\")\n",
    "    model = initialize_chat_model()\n",
    "    \n",
    "    # Extract text from the loaded documents\n",
    "    context_text = \" \".join([doc.page_content for doc in docs])\n",
    "    \n",
    "    prompt = create_prompt(context_text)  # Pass extracted text as context\n",
    "    memory = initialize_memory()\n",
    "    agent_executor = create_agent(retriever, model, prompt, memory)\n",
    "    \n",
    "    while True:\n",
    "        user_input = input(\"You: \")\n",
    "        if user_input.lower() == \"exit\":\n",
    "            break\n",
    "        response = process_chat(agent_executor, user_input)\n",
    "        print(\"AI:\", response)\n",
    "\n",
    "\n",
    "if __name__ == \"__main__\":\n",
    "    main()\n"
   ]
  }
 ],
 "metadata": {
  "kernelspec": {
   "display_name": ".venv",
   "language": "python",
   "name": "python3"
  },
  "language_info": {
   "codemirror_mode": {
    "name": "ipython",
    "version": 3
   },
   "file_extension": ".py",
   "mimetype": "text/x-python",
   "name": "python",
   "nbconvert_exporter": "python",
   "pygments_lexer": "ipython3",
   "version": "3.12.10"
  }
 },
 "nbformat": 4,
 "nbformat_minor": 2
}
