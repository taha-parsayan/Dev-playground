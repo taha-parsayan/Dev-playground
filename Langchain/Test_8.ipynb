{
 "cells": [
  {
   "cell_type": "markdown",
   "metadata": {},
   "source": [
    "### Combination of Test 6 % 7\n",
    "AI agent with memory"
   ]
  },
  {
   "cell_type": "code",
   "execution_count": null,
   "metadata": {},
   "outputs": [
    {
     "data": {
      "text/plain": [
       "True"
      ]
     },
     "execution_count": 6,
     "metadata": {},
     "output_type": "execute_result"
    }
   ],
   "source": [
    "import os\n",
    "import sys\n",
    "from langchain_openai import ChatOpenAI\n",
    "from langchain.prompts import ChatPromptTemplate, MessagesPlaceholder\n",
    "from dotenv import load_dotenv\n",
    "from langchain.memory import ConversationBufferMemory\n",
    "from langchain.chains import LLMChain\n",
    "from langchain_community.chat_message_histories.upstash_redis import (UpstashRedisChatMessageHistory)\n",
    "from langchain_community.document_loaders import WebBaseLoader\n",
    "from langchain.text_splitter import RecursiveCharacterTextSplitter\n",
    "from langchain_openai import OpenAIEmbeddings\n",
    "from langchain_community.vectorstores.faiss import FAISS\n",
    "from langchain.agents import AgentExecutor, create_openai_functions_agent\n",
    "from langchain_community.tools.tavily_search import TavilySearchResults\n",
    "from langchain.tools.retriever import create_retriever_tool\n",
    "\n",
    "current_path = os.getcwd()\n",
    "parrent_path = os.path.abspath(os.path.join(current_path, '..'))\n",
    "sys.path.append(parrent_path)\n",
    "\n",
    "from Update_Git import git_add, git_commit, git_push\n",
    "\n",
    "file_path = os.path.join(current_path, 'Test_8.ipynb')\n",
    "git_add(file_path)\n",
    "git_commit('Updated test 8')\n",
    "git_push('main')\n",
    "\n",
    "os.environ.pop(\"OPENAI_API_KEY\", None) # Because it loads a key from some place I dont know!\n",
    "env_path = os.path.join(current_path, \".env\")\n",
    "load_dotenv(dotenv_path=env_path)"
   ]
  },
  {
   "cell_type": "markdown",
   "metadata": {},
   "source": [
    "Login to https://upstash.com/?utm_source=Leon_LangchainPython\n",
    "to save the chat history"
   ]
  },
  {
   "cell_type": "code",
   "execution_count": null,
   "metadata": {},
   "outputs": [],
   "source": [
    "! pip install upstash_redis"
   ]
  },
  {
   "cell_type": "code",
   "execution_count": null,
   "metadata": {},
   "outputs": [
    {
     "name": "stdout",
     "output_type": "stream",
     "text": [
      "AI: Hello again! How can I help you today?\n",
      "AI: That's okay! If you think of any questions or need assistance in the future, feel free to reach out. Have a great day!\n",
      "AI: I am an AI assistant here to help and assist you with any questions or tasks you may have. Feel free to ask me anything!\n"
     ]
    }
   ],
   "source": [
    "loader = WebBaseLoader(\"https://en.wikipedia.org/wiki/FreeSurfer\")  # Load the document from the web\n",
    "docs = loader.load()  # Load the document\n",
    "\n",
    "splitter = RecursiveCharacterTextSplitter(\n",
    "    chunk_size=1000,\n",
    "    chunk_overlap=200\n",
    ")\n",
    "split_docs = splitter.split(docs)\n",
    "\n",
    "embedding = OpenAIEmbeddings()  # Generate embeddings using OpenAI\n",
    "vector_store = FAISS.from_documents(split_docs, embedding=embedding)  # Store documents in FAISS index - Facebook AI Similarity Search\n",
    "\n",
    "\n",
    "history = UpstashRedisChatMessageHistory(\n",
    "    url = os.getenv(\"UPSTASH_REDIS_REST_URL\"),\n",
    "    token = os.getenv(\"UPSTASH_REDIS_REST_TOKEN\"),\n",
    "    session_id = \"chat_1\",\n",
    "    ttl = 0 #conversation will never expirt. This is te time limit in seconds\n",
    ")\n",
    "\n",
    "model = ChatOpenAI(\n",
    "    model = \"gpt-3.5-turbo\",\n",
    "    temperature = 0.5\n",
    ")\n",
    "\n",
    "prompt = ChatPromptTemplate.from_messages([\n",
    "    (\"system\", \"You are a friendly AI assistant.\"),\n",
    "    MessagesPlaceholder(variable_name=\"chat_history\"),\n",
    "    (\"human\", \"{input}\")\n",
    "])\n",
    "\n",
    "memory = ConversationBufferMemory(\n",
    "    memory_key = \"chat_history\",\n",
    "    return_messages = True,\n",
    "    chat_memory=history\n",
    ")\n",
    "\n",
    "chain = LLMChain(\n",
    "    llm = model,\n",
    "    prompt = prompt,\n",
    "    memory = memory,\n",
    "    verbose = False\n",
    ")\n",
    "\n",
    "if __name__ == \"__main__\":\n",
    "\n",
    "    while True:\n",
    "        user_input = input(\"You: \")\n",
    "        if user_input.lower() == \"exit\":\n",
    "            break\n",
    "        response = chain.run(input=user_input)\n",
    "        print(\"AI:\", response)\n",
    "\n"
   ]
  }
 ],
 "metadata": {
  "kernelspec": {
   "display_name": "packages",
   "language": "python",
   "name": "python3"
  },
  "language_info": {
   "codemirror_mode": {
    "name": "ipython",
    "version": 3
   },
   "file_extension": ".py",
   "mimetype": "text/x-python",
   "name": "python",
   "nbconvert_exporter": "python",
   "pygments_lexer": "ipython3",
   "version": "3.10.9"
  }
 },
 "nbformat": 4,
 "nbformat_minor": 2
}
