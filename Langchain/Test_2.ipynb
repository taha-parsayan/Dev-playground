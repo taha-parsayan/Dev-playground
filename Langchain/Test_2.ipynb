{
 "cells": [
  {
   "cell_type": "code",
   "execution_count": null,
   "metadata": {},
   "outputs": [],
   "source": [
    "! pip install langchain"
   ]
  },
  {
   "cell_type": "code",
   "execution_count": null,
   "metadata": {},
   "outputs": [
    {
     "name": "stdout",
     "output_type": "stream",
     "text": [
      "Error executing command: ['git', 'commit', '-m', 'Test 2 updated']\n",
      "Error message: \n"
     ]
    },
    {
     "data": {
      "text/plain": [
       "''"
      ]
     },
     "execution_count": 6,
     "metadata": {},
     "output_type": "execute_result"
    }
   ],
   "source": [
    "import os\n",
    "import sys\n",
    "import langchain\n",
    "import subprocess\n",
    "current_dir = os.getcwd()\n",
    "parent_dir = os.path.abspath(os.path.join(current_dir, '..'))\n",
    "sys.path.append(parent_dir)\n",
    "from Update_Git import git_add, git_commit, git_push\n",
    "from dotenv import load_dotenv\n",
    "\n",
    "os.environ.pop(\"OPENAI_API_KEY\", None) # Because it loads a key from some place I dont know!\n",
    "env_path = os.path.join(current_dir, \".env\")\n",
    "load_dotenv(dotenv_path=env_path)\n",
    "\n",
    "add_file = os.path.join(current_dir, 'Test_2.ipynb')\n",
    "git_add(add_file)\n",
    "git_commit('Test 2 updated')\n",
    "git_push('main')"
   ]
  },
  {
   "cell_type": "code",
   "execution_count": null,
   "metadata": {},
   "outputs": [
    {
     "name": "stdout",
     "output_type": "stream",
     "text": [
      "content='Copenhagen' additional_kwargs={'refusal': None} response_metadata={'token_usage': {'completion_tokens': 2, 'prompt_tokens': 14, 'total_tokens': 16, 'completion_tokens_details': {'accepted_prediction_tokens': 0, 'audio_tokens': 0, 'reasoning_tokens': 0, 'rejected_prediction_tokens': 0}, 'prompt_tokens_details': {'audio_tokens': 0, 'cached_tokens': 0}}, 'model_name': 'gpt-3.5-turbo-0125', 'system_fingerprint': None, 'id': 'chatcmpl-Bii3tYSvX9cfyx5ZUIL5a9Ldvp9xa', 'service_tier': 'default', 'finish_reason': 'stop', 'logprobs': None} id='run--e7370c54-11e4-4406-b836-d3a85f695501-0' usage_metadata={'input_tokens': 14, 'output_tokens': 2, 'total_tokens': 16, 'input_token_details': {'audio': 0, 'cache_read': 0}, 'output_token_details': {'audio': 0, 'reasoning': 0}}\n"
     ]
    }
   ],
   "source": [
    "from langchain_core.prompts import ChatPromptTemplate\n",
    "from langchain_openai import ChatOpenAI\n",
    "\n",
    "# prompt template\n",
    "prompt = ChatPromptTemplate.from_template(\"What is the capital of {city}?\")\n",
    "\n",
    "# LLM model\n",
    "llm = ChatOpenAI(\n",
    "    model=\"gpt-3.5-turbo\", \n",
    "    temperature=0.5, \n",
    "    max_tokens=100)\n",
    "\n",
    "# LLM chain\n",
    "chain = prompt | llm\n",
    "\n",
    "response = chain.invoke({\"city\" : \"Denmark\"})\n",
    "print(response)"
   ]
  },
  {
   "cell_type": "code",
   "execution_count": null,
   "metadata": {},
   "outputs": [],
   "source": [
    "prompt = ChatPromptTemplate.from_messages([\n",
    "    (\"system\", \"You are an AI chef. You have to make a recipe for a dish.\"),\n",
    "    (\"human\", \"{input}\")\n",
    "])\n",
    "\n",
    "chain = prompt | llm\n",
    "response = chain.invoke({\"input\" : \"I want to make a pizza.\"})\n",
    "print(response)"
   ]
  }
 ],
 "metadata": {
  "kernelspec": {
   "display_name": ".venv",
   "language": "python",
   "name": "python3"
  },
  "language_info": {
   "codemirror_mode": {
    "name": "ipython",
    "version": 3
   },
   "file_extension": ".py",
   "mimetype": "text/x-python",
   "name": "python",
   "nbconvert_exporter": "python",
   "pygments_lexer": "ipython3",
   "version": "3.12.10"
  }
 },
 "nbformat": 4,
 "nbformat_minor": 2
}
