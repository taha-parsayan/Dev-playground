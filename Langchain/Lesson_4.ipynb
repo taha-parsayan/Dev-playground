{
 "cells": [
  {
   "cell_type": "markdown",
   "metadata": {},
   "source": [
    "### Lesson 4"
   ]
  },
  {
   "cell_type": "code",
   "execution_count": null,
   "metadata": {},
   "outputs": [],
   "source": [
    "import os\n",
    "import sys\n",
    "import langchain\n",
    "from langchain_openai import ChatOpenAI\n",
    "from langchain_core.prompts import ChatPromptTemplate\n",
    "from langchain_core.output_parsers import StrOutputParser, CommaSeparatedListOutputParser, JsonOutputParser\n",
    "from langchain_core.pydantic_v1 import BaseModel, Field\n",
    "from dotenv import load_dotenv\n",
    "\n",
    "current_path = os.getcwd()\n",
    "parrent_path = os.path.abspath(os.path.join(current_path, '..'))\n",
    "sys.path.append(parrent_path)\n",
    "\n",
    "from Update_Git import git_add, git_commit, git_push\n",
    "\n",
    "file_path = os.path.join(current_path, 'Lesson_4.ipynb')\n",
    "git_add(file_path)\n",
    "git_commit('Updated Lesson 4')\n",
    "git_push('main')\n",
    "\n",
    "os.environ.pop(\"OPENAI_API_KEY\", None) # Because it loads a key from some place I dont know!\n",
    "env_path = os.path.join(current_path, \".env\")\n",
    "load_dotenv(dotenv_path=env_path)"
   ]
  },
  {
   "cell_type": "markdown",
   "metadata": {},
   "source": [
    "### If we have a text fo cotext"
   ]
  },
  {
   "cell_type": "code",
   "execution_count": 21,
   "metadata": {},
   "outputs": [
    {
     "name": "stdout",
     "output_type": "stream",
     "text": [
      "FreeSurfer is brain imaging software that was originally developed by a team of researchers and is now primarily maintained by the Laboratory for Computational Neuroimaging. It is used for analyzing and processing brain imaging data, particularly for studies related to neuroimaging and neuroscience.\n"
     ]
    }
   ],
   "source": [
    "from langchain_core.documents import Document\n",
    "from langchain.chains.combine_documents import create_stuff_documents_chain\n",
    "\n",
    "docA = Document(\n",
    "    page_content= \"FreeSurfer is brain imaging software originally developed by Bruce Fischl, Anders Dale, Martin Sereno, and Doug Greve.[2] Development and maintenance of FreeSurfer is now the primary responsibility of the Laboratory for Computational Neuroimaging\"\n",
    ")\n",
    "\n",
    "model = ChatOpenAI(\n",
    "    model = 'gpt-3.5-turbo',\n",
    "    temperature=0.4\n",
    ")\n",
    "\n",
    "prompt = ChatPromptTemplate.from_template(\n",
    "    \"\"\"\n",
    "    Answer the users questions:\n",
    "    Context: {context}\n",
    "    Question: {input}\n",
    "\"\"\"\n",
    ")\n",
    "\n",
    "parser = StrOutputParser()\n",
    "\n",
    "# chain = prompt | model | parser\n",
    "chain = create_stuff_documents_chain(\n",
    "    llm=model,\n",
    "    prompt=prompt,\n",
    "    output_parser=parser\n",
    ")\n",
    "\n",
    "response = chain.invoke({\n",
    "    \"input\": \"What is FreeSurfer?\",\n",
    "    \"context\": [docA]\n",
    "})\n",
    "\n",
    "print(response)"
   ]
  },
  {
   "cell_type": "markdown",
   "metadata": {},
   "source": [
    "### If the context is a webpage"
   ]
  },
  {
   "cell_type": "code",
   "execution_count": null,
   "metadata": {},
   "outputs": [],
   "source": [
    "!pip install langchain_community\n",
    "!pip install beautifulsoup4\n"
   ]
  },
  {
   "cell_type": "code",
   "execution_count": 4,
   "metadata": {},
   "outputs": [
    {
     "name": "stdout",
     "output_type": "stream",
     "text": [
      "[Document(metadata={'source': 'https://en.wikipedia.org/wiki/FreeSurfer', 'title': 'FreeSurfer - Wikipedia', 'language': 'en'}, page_content='\\n\\n\\n\\nFreeSurfer - Wikipedia\\n\\n\\n\\n\\n\\n\\n\\n\\n\\n\\n\\n\\n\\n\\n\\n\\n\\n\\n\\n\\n\\n\\n\\n\\n\\n\\n\\n\\n\\n\\n\\n\\n\\n\\n\\nJump to content\\n\\n\\n\\n\\n\\n\\n\\nMain menu\\n\\n\\n\\n\\n\\nMain menu\\nmove to sidebar\\nhide\\n\\n\\n\\n\\t\\tNavigation\\n\\t\\n\\n\\nMain pageContentsCurrent eventsRandom articleAbout WikipediaContact us\\n\\n\\n\\n\\n\\n\\t\\tContribute\\n\\t\\n\\n\\nHelpLearn to editCommunity portalRecent changesUpload file\\n\\n\\n\\n\\n\\n\\n\\n\\n\\n\\n\\n\\n\\n\\n\\n\\n\\n\\n\\nSearch\\n\\n\\n\\n\\n\\n\\n\\n\\n\\n\\n\\nSearch\\n\\n\\n\\n\\n\\n\\n\\n\\n\\n\\n\\n\\n\\n\\n\\n\\n\\n\\n\\n\\n\\n\\nAppearance\\n\\n\\n\\n\\n\\n\\n\\n\\n\\n\\n\\n\\n\\n\\n\\n\\nDonate\\n\\nCreate account\\n\\nLog in\\n\\n\\n\\n\\n\\n\\n\\n\\nPersonal tools\\n\\n\\n\\n\\n\\nDonate Create account Log in\\n\\n\\n\\n\\n\\n\\t\\tPages for logged out editors learn more\\n\\n\\n\\nContributionsTalk\\n\\n\\n\\n\\n\\n\\n\\n\\n\\n\\n\\n\\n\\n\\n\\n\\n\\n\\n\\n\\n\\n\\n\\n\\n\\n\\n\\n\\nContents\\nmove to sidebar\\nhide\\n\\n\\n\\n\\n(Top)\\n\\n\\n\\n\\n\\n1\\nUsage\\n\\n\\n\\n\\n\\n\\n\\n\\n2\\nInteroperation\\n\\n\\n\\n\\n\\n\\n\\n\\n3\\nDownload\\n\\n\\n\\n\\n\\n\\n\\n\\n4\\nSelected references\\n\\n\\n\\n\\n\\n\\n\\n\\n5\\nSee also\\n\\n\\n\\n\\n\\n\\n\\n\\n6\\nReferences\\n\\n\\n\\n\\n\\n\\n\\n\\n7\\nExternal links\\n\\n\\n\\n\\n\\n\\n\\n\\n\\n\\n\\n\\n\\n\\n\\n\\n\\n\\nToggle the table of contents\\n\\n\\n\\n\\n\\n\\n\\nFreeSurfer\\n\\n\\n\\n1 language\\n\\n\\n\\n\\nFrançais\\n\\nEdit links\\n\\n\\n\\n\\n\\n\\n\\n\\n\\n\\n\\nArticleTalk\\n\\n\\n\\n\\n\\nEnglish\\n\\n\\n\\n\\n\\n\\n\\n\\n\\n\\n\\n\\n\\n\\n\\n\\n\\nReadEditView history\\n\\n\\n\\n\\n\\n\\n\\nTools\\n\\n\\n\\n\\n\\nTools\\nmove to sidebar\\nhide\\n\\n\\n\\n\\t\\tActions\\n\\t\\n\\n\\nReadEditView history\\n\\n\\n\\n\\n\\n\\t\\tGeneral\\n\\t\\n\\n\\nWhat links hereRelated changesUpload fileSpecial pagesPermanent linkPage informationCite this pageGet shortened URLDownload QR code\\n\\n\\n\\n\\n\\n\\t\\tPrint/export\\n\\t\\n\\n\\nDownload as PDFPrintable version\\n\\n\\n\\n\\n\\n\\t\\tIn other projects\\n\\t\\n\\n\\nWikidata item\\n\\n\\n\\n\\n\\n\\n\\n\\n\\n\\n\\n\\n\\n\\n\\n\\n\\n\\n\\n\\n\\nAppearance\\nmove to sidebar\\nhide\\n\\n\\n\\n\\n\\n\\n\\n\\n\\n\\nFrom Wikipedia, the free encyclopedia\\n\\n\\nBrain imaging software package\\nFreeSurferDeveloper(s)Martinos Center for Biomedical ImagingStable release7.3\\n   \\nRepositorygithub.com/freesurfer/freesurfer \\nOperating systemLinux or Mac OS XTypeNeuroimaging data analysisLicenseFreeSurfer Software License[1]WebsiteFreeSurfer\\nA screen capture of the FreeView application included in FreeSurfer.\\nFreeSurfer is brain imaging software originally developed by Bruce Fischl, Anders Dale, Martin Sereno, and Doug Greve.[2] Development and maintenance of FreeSurfer is now the primary responsibility of the Laboratory for Computational Neuroimaging[3] at the Athinoula A. Martinos Center for Biomedical Imaging. FreeSurfer contains a set of programs with a common focus of analyzing magnetic resonance imaging (MRI) scans of brain tissue. It is an important tool in functional brain mapping and contains tools to conduct both volume based and surface based analysis.[4] FreeSurfer includes tools for the reconstruction of topologically correct and geometrically accurate models of both the gray/white and pial surfaces, for measuring cortical thickness, surface area and folding, and for computing inter-subject registration based on the pattern of cortical folds.\\n57,541 copies of the FreeSurfer software package have been registered for use as of April 2022[5] and it is a core tool in the processing pipelines of the Human Connectome Project,[6] the UK Biobank,[7] the Adolescent Brain Cognitive Development Study,[8] and the Alzheimer\\'s Disease Neuroimaging Initiative.[9]\\n\\nFreeSurfer morphs cortical surfaces onto spheres to aide in inter-subject comparisons.\\n\\nUsage[edit]\\nThe FreeSurfer processing stream is controlled by a shell script called recon-all.[10] The script calls component programs that organize raw MRI images into formats easily usable for morphometric and statistical analysis. FreeSurfer automatically segments the volume and parcellates the surface into standardized regions of interest (ROIs).  Freesurfer uses a morphed spherical method to average across subjects for statistical (general linear model) analysis with the mri_glmfit[11] tool.\\nFreeSurfer contains a range of packages allowing a broad spectrum of uses, including:\\n\\nFreeView, a tool to visualize FreeSurfer output, which can also display common MRI image formats[12]\\nTRACULA, a tool to construct white matter tract data from diffusion images[13]\\nFSFAST, a tool for analysis of functional MRI data[14]\\nXHemi, for Interhemispheric registration[15]\\nLGI, to calculate the degree of folding or local GI[16]\\na Matlab toolbox for linear mixed effects models[17]\\nInteroperation[edit]\\nFreeSurfer interoperates easily with the FMRIB Software Library (FSL), a comprehensive library for image analysis written by the Functional MRI of the Brain (FMRIB) group at Oxford, UK. The functional activation results obtained using either the FreeSurfer Functional Analysis Stream (FS-FAST) or the FSL tools can be overlaid onto inflated, sphered or flattened cortical surfaces using FreeSurfer. Data from Statistical Parametric Mapping (SPM) can be integrated into FreeSurfer data sets through tools included in the FreeSurfer package.[18] FreeSurfer also uses toolkits from MNI MINC, VXL, Tcl/Tk/Tix/BLT, VTK., KWWidgets and Qt,[19] which are all available with the distribution. Other neuroimaging programs like Caret,  AFNI/SUMA, MNE, and 3D Slicer can also import data processed by FreeSurfer.\\n\\nDownload[edit]\\nFreeSurfer runs on Mac OS and Linux. Free registration and binary installation are available without a cost, but a license key (text file) is necessary to run the FreeSurfer binaries.[20] Documentation can be found on the FreeSurfer Wiki[21] and limited support is available from the developers and community through the FreeSurfer mailing list.\\n\\nSelected references[edit]\\nThe following is a sample of references the FreeSurfer team recommends researchers cite when publishing findings obtained through FreeSurfer.[22] Citation counts have been obtained through Google Scholar as of August 2019.\\n\\n\\n\\n\\n\\nTitle\\n\\nYear\\n\\nCitations\\n\\n\\nCortical surface-based analysis. I. Segmentation and surface reconstruction.[23]\\n\\n1999\\n\\n6469\\n\\n\\nCortical surface-based analysis. II: Inflation, flattening, and a surface-based coordinate system.[24]\\n\\n1999\\n\\n4507\\n\\n\\nHigh-resolution intersubject averaging and a coordinate system for the cortical surface.[25]\\n\\n1999\\n\\n2339\\n\\n\\nMeasuring the thickness of the human cerebral cortex from magnetic resonance images.[26]\\n\\n2000\\n\\n3863\\n\\n\\nAutomated manifold surgery: constructing geometrically accurate and topologically correct models of the human cerebral cortex.[27]\\n\\n2001\\n\\n1258\\n\\n\\nWhole brain segmentation: automated labeling of neuroanatomical structures in the human brain.[28]\\n\\n2002\\n\\n5066\\n\\n\\nA hybrid approach to the skull stripping problem in MRI.[29]\\n\\n2004\\n\\n1584\\n\\n\\nAutomatically parcellating the human cerebral cortex.[30]\\n\\n2004\\n\\n2731\\n\\n\\nAn automated labeling system for subdividing the human cerebral cortex on MRI scans into gyral based regions of interest.[31]\\n\\n2006\\n\\n4932\\n\\nSee also[edit]\\n\\nFree and open-source software portal\\nAnalysis of Functional NeuroImages\\nCaret Van Essen Lab, Washington University in St. Louis\\nLaboratory of Neuro Imaging, UCLA\\nStatistical parametric mapping (SPM)\\nComputational anatomy toolbox\\nAnastasia Yendiki\\nReferences[edit]\\n\\n^ [1] FreeSurfer Software License page\\n\\n^ Fischl, Bruce (15 August 2012). \"FreeSurfer\". NeuroImage. 62 (2): 774–781. doi:10.1016/j.neuroimage.2012.01.021. ISSN\\xa01053-8119. PMC\\xa03685476. PMID\\xa022248573.\\n\\n^ \"Laboratory for Computational Neuroimaging | MGH/HST Martinos Center for Biomedical Imaging\".\\n\\n^ Dale, Anders M.; Fischl, Bruce; Serenob, Martin I. (February 1999). \"Cortical Surface-Based Analysis: I. Segmentation and Surface Reconstruction\" (PDF). NeuroImage. 9 (2): 179–194. doi:10.1006/nimg.1998.0395. PMID\\xa09931268. S2CID\\xa02807360. Retrieved 29 August 2018.\\n\\n^ [2]  FreeSurfer stats from the official FreeSurfer wiki\\n\\n^ Glasser, Matthew F.; Sotiropoulos, Stamatios N; Wilson, J Anthony; Coalson, Timothy S; Fischl, Bruce; Andersson, Jesper L; Xu, Junqian; Jbabdi, Saad; Webster, Matthew; Polimeni, Jonathan R; Van Essen, David C; Jenkinson, Mark (15 October 2013). \"The Minimal Preprocessing Pipelines for the Human Connectome Project\". NeuroImage. 80: 105–124. doi:10.1016/j.neuroimage.2013.04.127. ISSN\\xa01053-8119. PMC\\xa03720813. PMID\\xa023668970.\\n\\n^ Smith, Stephen M.; Miller, Karla L.; Matthews, Paul M.; Dragonu, Iulius; Zhang, Hui; Alexander, Daniel C.; Daducci, Alessandro; Rorden, Christopher; McCarthy, Paul; Webster, Matthew; Vidaurre, Diego; Vallee, Emmanuel; Hernandez-Fernandez, Moises; Jbabdi, Saad; Sotiropoulos, Stamatios N.; Douaud, Gwenaëlle; Griffanti, Ludovica; Andersson, Jesper L. R.; Bangerter, Neal K.; Jenkinson, Mark; Alfaro-Almagro, Fidel (24 April 2017). \"Image Processing and Quality Control for the first 10,000 Brain Imaging Datasets from UK Biobank\". bioRxiv: 130385. doi:10.1101/130385. hdl:11343/256303.\\n\\n^ Dale, Anders M.; Jernigan, Terry L.; Brown, Sandra A.; Dowling, Gayathri J.; Grant, Steven J.; Constable, R. Todd; Baskin-Sommers, Arielle; Madden, Pamela A.; Heath, Andrew C.; Glaser, Paul; Anokhin, Andrey P.; Steinberg, Joel; Hettema, John M.; Fuemmeler, Bernard; Charness, Michael E.; Lisdahl, Krista; Larson, Christine; Florsheim, Paul; Potter, Alexandra; Ivanova, Masha; Dumas, Julie A.; Allgaier, Nicholas A.; Yurgelun-Todd, Deborah A.; Renshaw, Perry F.; Prescot, Andrew; McGlade, Erin; Huber, Rebekah; Mason, Michael J.; Mruzek, Daniel W.; et\\xa0al. (4 November 2018). \"Image processing and analysis methods for the Adolescent Brain Cognitive Development Study\". bioRxiv. 202: 457739. doi:10.1101/457739. PMC\\xa06981278. PMID\\xa031415884.\\n\\n^ \"ADNI | MRI Tool\".\\n\\n^ [3] recon-all script usage\\n\\n^ \"FsTutorial/GroupAnalysisV6.0 – Free Surfer Wiki\". surfer.nmr.mgh.harvard.edu. Retrieved 2019-08-30.\\n\\n^ \"FreeviewGuide/FreeviewIntroduction – Free Surfer Wiki\". surfer.nmr.mgh.harvard.edu. Retrieved 2019-08-30.\\n\\n^ \"Tracula – Free Surfer Wiki\". surfer.nmr.mgh.harvard.edu. Retrieved 2019-08-30.\\n\\n^ \"FsFastTutorialV6.0 – Free Surfer Wiki\". surfer.nmr.mgh.harvard.edu. Retrieved 2019-08-30.\\n\\n^ \"Xhemi – Free Surfer Wiki\".\\n\\n^ \"LGI – Free Surfer Wiki\".\\n\\n^ \"LinearMixedEffectsModels – Free Surfer Wiki\".\\n\\n^ \"SPM – Free Surfer Wiki\". surfer.nmr.mgh.harvard.edu. 15 August 2012.\\n\\n^ [4] Developer\\'s Guide\\n\\n^ [5] Archived 2014-11-23 at the Wayback Machine Download notes\\n\\n^ [6] FreeSurfer Wiki\\n\\n^ \"FreeSurferMethodsCitation – Free Surfer Wiki\".\\n\\n^ Dale, A. M.; Fischl, B.; Sereno, M. I. (February 1999). \"Cortical surface-based analysis. I. Segmentation and surface reconstruction\". NeuroImage. 9 (2): 179–194. doi:10.1006/nimg.1998.0395. ISSN\\xa01053-8119. PMID\\xa09931268. S2CID\\xa02807360.\\n\\n^ Fischl, B.; Sereno, M. I.; Dale, A. M. (February 1999). \"Cortical surface-based analysis. II: Inflation, flattening, and a surface-based coordinate system\". NeuroImage. 9 (2): 195–207. doi:10.1006/nimg.1998.0396. ISSN\\xa01053-8119. PMID\\xa09931269. S2CID\\xa03100335.\\n\\n^ Fischl, Bruce; Sereno, Martin I.; Tootell, Roger B. H.; Dale, Anders M. (1999). \"High-resolution intersubject averaging and a coordinate system for the cortical surface\". Human Brain Mapping. 8 (4): 272–284. doi:10.1002/(SICI)1097-0193(1999)8:4<272::AID-HBM10>3.0.CO;2-4. ISSN\\xa01097-0193. PMC\\xa06873338. PMID\\xa010619420.\\n\\n^ Fischl, B.; Dale, A. M. (2000-09-26). \"Measuring the thickness of the human cerebral cortex from magnetic resonance images\". Proceedings of the National Academy of Sciences of the United States of America. 97 (20): 11050–11055. Bibcode:2000PNAS...9711050F. doi:10.1073/pnas.200033797. ISSN\\xa00027-8424. PMC\\xa027146. PMID\\xa010984517.\\n\\n^ Fischl, B.; Liu, A.; Dale, A. M. (January 2001). \"Automated manifold surgery: constructing geometrically accurate and topologically correct models of the human cerebral cortex\". IEEE Transactions on Medical Imaging. 20 (1): 70–80. CiteSeerX\\xa010.1.1.3.8686. doi:10.1109/42.906426. ISSN\\xa00278-0062. PMID\\xa011293693. S2CID\\xa0954064.\\n\\n^ Fischl, Bruce; Salat, David H.; Busa, Evelina; Albert, Marilyn; Dieterich, Megan; Haselgrove, Christian; van der Kouwe, Andre; Killiany, Ron; Kennedy, David (2002-01-31). \"Whole brain segmentation: automated labeling of neuroanatomical structures in the human brain\". Neuron. 33 (3): 341–355. doi:10.1016/s0896-6273(02)00569-x. ISSN\\xa00896-6273. PMID\\xa011832223. S2CID\\xa09629554.\\n\\n^ Ségonne, F.; Dale, A. M.; Busa, E.; Glessner, M.; Salat, D.; Hahn, H. K.; Fischl, B. (July 2004). \"A hybrid approach to the skull stripping problem in MRI\". NeuroImage. 22 (3): 1060–1075. CiteSeerX\\xa010.1.1.123.7627. doi:10.1016/j.neuroimage.2004.03.032. ISSN\\xa01053-8119. PMID\\xa015219578. S2CID\\xa054432685.\\n\\n^ Fischl, Bruce; van der Kouwe, André; Destrieux, Christophe; Halgren, Eric; Ségonne, Florent; Salat, David H.; Busa, Evelina; Seidman, Larry J.; Goldstein, Jill (January 2004). \"Automatically parcellating the human cerebral cortex\". Cerebral Cortex. 14 (1): 11–22. doi:10.1093/cercor/bhg087. ISSN\\xa01047-3211. PMID\\xa014654453.\\n\\n^ Desikan, Rahul S.; Ségonne, Florent; Fischl, Bruce; Quinn, Brian T.; Dickerson, Bradford C.; Blacker, Deborah; Buckner, Randy L.; Dale, Anders M.; Maguire, R. Paul (2006-07-01). \"An automated labeling system for subdividing the human cerebral cortex on MRI scans into gyral based regions of interest\". NeuroImage. 31 (3): 968–980. doi:10.1016/j.neuroimage.2006.01.021. ISSN\\xa01053-8119. PMID\\xa016530430. S2CID\\xa012420386.\\n\\n\\nExternal links[edit]\\nOfficial website\\nvteImage processing softwareFree\\n3D Slicer\\nAFNI\\nCellCognition\\nCellProfiler\\nDlib\\nEndrov\\nFiji\\nFMRIB Software Library\\nFreeSurfer\\nGemIdent\\nGNU Octave\\nilastik\\nImageJ\\nIMOD\\nITK\\nInVesalius\\nITK-SNAP\\nKNIME\\nMango\\nOpenCV\\nOsiriX\\nVIGRA\\nVXL\\nProprietary\\nAmira\\nAnalyze\\nAphelion\\nAvizo\\nBitplane\\nIDL\\nMathematica\\nMATLAB\\nMimics\\nMountainsMap\\nTomviz\\nVisage SDK\\n\\n\\n\\n\\n\\nRetrieved from \"https://en.wikipedia.org/w/index.php?title=FreeSurfer&oldid=1257145625\"\\nCategories: Image processing softwareComputing in medical imagingNeuroimagingNeuroimaging softwareSoftware that uses VTKHidden categories: Webarchive template wayback linksArticles with short descriptionShort description matches Wikidata\\n\\n\\n\\n\\n\\n\\n This page was last edited on 13 November 2024, at 13:40\\xa0(UTC).\\nText is available under the Creative Commons Attribution-ShareAlike 4.0 License;\\nadditional terms may apply. By using this site, you agree to the Terms of Use and Privacy Policy. Wikipedia® is a registered trademark of the Wikimedia Foundation, Inc., a non-profit organization.\\n\\n\\nPrivacy policy\\nAbout Wikipedia\\nDisclaimers\\nContact Wikipedia\\nCode of Conduct\\nDevelopers\\nStatistics\\nCookie statement\\nMobile view\\n\\n\\n\\n\\n\\n\\n\\n\\n\\n\\n\\n\\n\\n\\nSearch\\n\\n\\n\\n\\n\\n\\n\\n\\n\\n\\n\\n\\n\\nSearch\\n\\n\\n\\n\\n\\n\\n\\n\\n\\nToggle the table of contents\\n\\n\\n\\n\\n\\n\\n\\nFreeSurfer\\n\\n\\n\\n\\n\\n\\n\\n\\n\\n\\n\\n\\n\\n\\n\\n\\n\\n\\n\\n\\n\\n\\n\\n\\n\\n\\n\\n\\n1 language\\n\\n\\nAdd topic\\n\\n\\n\\n\\n\\n\\n\\n\\n\\n\\n\\n\\n\\n\\n')]\n"
     ]
    }
   ],
   "source": [
    "from langchain_community.document_loaders import WebBaseLoader\n",
    "from langchain.chains.combine_documents import create_stuff_documents_chain\n",
    "\n",
    "def document_loader(url):\n",
    "    loader = WebBaseLoader(url)\n",
    "    docs = loader.load()\n",
    "\n",
    "    return docs\n",
    "\n",
    "\n",
    "print(document_loader(\"https://en.wikipedia.org/wiki/FreeSurfer\"))"
   ]
  },
  {
   "cell_type": "code",
   "execution_count": 5,
   "metadata": {},
   "outputs": [
    {
     "ename": "NameError",
     "evalue": "name 'ChatOpenAI' is not defined",
     "output_type": "error",
     "traceback": [
      "\u001b[1;31m---------------------------------------------------------------------------\u001b[0m",
      "\u001b[1;31mNameError\u001b[0m                                 Traceback (most recent call last)",
      "Cell \u001b[1;32mIn[5], line 12\u001b[0m\n\u001b[0;32m      8\u001b[0m     \u001b[38;5;28;01mreturn\u001b[39;00m docs\n\u001b[0;32m     10\u001b[0m docs \u001b[38;5;241m=\u001b[39m document_loader(\u001b[38;5;124m\"\u001b[39m\u001b[38;5;124mhttps://en.wikipedia.org/wiki/FreeSurfer\u001b[39m\u001b[38;5;124m\"\u001b[39m)\n\u001b[1;32m---> 12\u001b[0m model \u001b[38;5;241m=\u001b[39m \u001b[43mChatOpenAI\u001b[49m(\n\u001b[0;32m     13\u001b[0m     model \u001b[38;5;241m=\u001b[39m \u001b[38;5;124m'\u001b[39m\u001b[38;5;124mgpt-3.5-turbo\u001b[39m\u001b[38;5;124m'\u001b[39m,\n\u001b[0;32m     14\u001b[0m     temperature\u001b[38;5;241m=\u001b[39m\u001b[38;5;241m0.4\u001b[39m\n\u001b[0;32m     15\u001b[0m )\n\u001b[0;32m     17\u001b[0m prompt \u001b[38;5;241m=\u001b[39m ChatPromptTemplate\u001b[38;5;241m.\u001b[39mfrom_template(\n\u001b[0;32m     18\u001b[0m \u001b[38;5;250m    \u001b[39m\u001b[38;5;124;03m\"\"\"\u001b[39;00m\n\u001b[0;32m     19\u001b[0m \u001b[38;5;124;03m    Answer the users questions:\u001b[39;00m\n\u001b[1;32m   (...)\u001b[0m\n\u001b[0;32m     22\u001b[0m \u001b[38;5;124;03m\"\"\"\u001b[39;00m\n\u001b[0;32m     23\u001b[0m )\n\u001b[0;32m     25\u001b[0m parser \u001b[38;5;241m=\u001b[39m StrOutputParser()\n",
      "\u001b[1;31mNameError\u001b[0m: name 'ChatOpenAI' is not defined"
     ]
    }
   ],
   "source": [
    "from langchain_community.document_loaders import WebBaseLoader\n",
    "from langchain.chains.combine_documents import create_stuff_documents_chain\n",
    "\n",
    "def document_loader(url):\n",
    "    loader = WebBaseLoader(url)\n",
    "    docs = loader.load()\n",
    "\n",
    "    return docs\n",
    "\n",
    "docs = document_loader(\"https://en.wikipedia.org/wiki/FreeSurfer\")\n",
    "\n",
    "model = ChatOpenAI(\n",
    "    model = 'gpt-3.5-turbo',\n",
    "    temperature=0.4\n",
    ")\n",
    "\n",
    "prompt = ChatPromptTemplate.from_template(\n",
    "    \"\"\"\n",
    "    Answer the users questions:\n",
    "    Context: {context}\n",
    "    Question: {input}\n",
    "\"\"\"\n",
    ")\n",
    "\n",
    "parser = StrOutputParser()\n",
    "\n",
    "# chain = prompt | model | parser\n",
    "chain = create_stuff_documents_chain(\n",
    "    llm=model,\n",
    "    prompt=prompt,\n",
    "    output_parser=parser\n",
    ")\n",
    "\n",
    "response = chain.invoke({\n",
    "    \"input\": \"What is FreeSurfer?\",\n",
    "    \"context\": docs\n",
    "})\n",
    "\n",
    "print(response)"
   ]
  }
 ],
 "metadata": {
  "kernelspec": {
   "display_name": "packages",
   "language": "python",
   "name": "python3"
  },
  "language_info": {
   "codemirror_mode": {
    "name": "ipython",
    "version": 3
   },
   "file_extension": ".py",
   "mimetype": "text/x-python",
   "name": "python",
   "nbconvert_exporter": "python",
   "pygments_lexer": "ipython3",
   "version": "3.10.9"
  }
 },
 "nbformat": 4,
 "nbformat_minor": 2
}
