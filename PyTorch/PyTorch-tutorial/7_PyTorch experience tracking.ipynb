{
 "cells": [
  {
   "cell_type": "code",
   "execution_count": 19,
   "metadata": {},
   "outputs": [],
   "source": [
    "import torch\n",
    "from torch import nn\n",
    "import matplotlib.pyplot as plt\n",
    "import numpy as np\n",
    "from torch.utils.data import DataLoader\n",
    "import torchvision\n",
    "from torchvision import datasets, transforms, models\n",
    "from going_modular import data_setup, engine, model_builder, predictions\n",
    "from torchinfo import summary\n",
    "import zipfile\n",
    "from pathlib import Path\n",
    "try:\n",
    "    from torch.utils.tensorboard import SummaryWriter\n",
    "except:\n",
    "    !pip install -q tensorboard\n",
    "    from torch.utils.tensorboard import SummaryWriter\n",
    "\n",
    "from typing import Dict, List\n",
    "from tqdm import tqdm\n",
    "\n",
    "device = torch.device(\"cuda\" if torch.cuda.is_available() else \"cpu\")\n",
    "\n",
    "torch.manual_seed(42)\n",
    "torch.cuda.manual_seed(42)"
   ]
  },
  {
   "cell_type": "markdown",
   "metadata": {},
   "source": [
    "### Data"
   ]
  },
  {
   "cell_type": "code",
   "execution_count": 2,
   "metadata": {},
   "outputs": [
    {
     "name": "stdout",
     "output_type": "stream",
     "text": [
      "Image_path: data\\pizza_steak_sushi\n"
     ]
    }
   ],
   "source": [
    "data_path = Path(\"data/\")\n",
    "image_path = data_path / \"pizza_steak_sushi\"\n",
    "if image_path.is_dir():\n",
    "    print(f\"Image_path: {image_path}\")\n",
    "else:\n",
    "    print(\"Image_patt does not exist\")\n"
   ]
  },
  {
   "cell_type": "markdown",
   "metadata": {},
   "source": [
    "### Dataset and dataloader"
   ]
  },
  {
   "cell_type": "code",
   "execution_count": 9,
   "metadata": {},
   "outputs": [
    {
     "name": "stdout",
     "output_type": "stream",
     "text": [
      "Automatically created transforms: ImageClassification(\n",
      "    crop_size=[224]\n",
      "    resize_size=[256]\n",
      "    mean=[0.485, 0.456, 0.406]\n",
      "    std=[0.229, 0.224, 0.225]\n",
      "    interpolation=InterpolationMode.BICUBIC\n",
      ")\n",
      "<torch.utils.data.dataloader.DataLoader object at 0x00000224FFDAE4D0> <torch.utils.data.dataloader.DataLoader object at 0x00000224FFDA95D0> ['pizza', 'steak', 'sushi']\n"
     ]
    }
   ],
   "source": [
    "train_dir = image_path / \"train\"\n",
    "test_dir = image_path / \"test\"\n",
    "\n",
    "weights = torchvision.models.EfficientNet_B0_Weights.DEFAULT\n",
    "automatic_transforms = weights.transforms()\n",
    "print(f\"Automatically created transforms: {automatic_transforms}\")\n",
    "\n",
    "\n",
    "train_dataloader, test_dataloader, classes = data_setup.create_dataloaders(\n",
    "    train_dir=train_dir,\n",
    "    test_dir=test_dir,\n",
    "    transform=automatic_transforms,\n",
    "    batch_size=32\n",
    ")\n",
    "\n",
    "print(train_dataloader, test_dataloader, classes)"
   ]
  },
  {
   "cell_type": "markdown",
   "metadata": {},
   "source": [
    "### Transfer Learning"
   ]
  },
  {
   "cell_type": "code",
   "execution_count": 11,
   "metadata": {},
   "outputs": [
    {
     "data": {
      "text/plain": [
       "=========================================================================================================\n",
       "Layer (type:depth-idx)                                  Output Shape              Param #\n",
       "=========================================================================================================\n",
       "EfficientNet                                            [32, 1000]                --\n",
       "├─Sequential: 1-1                                       [32, 1280, 7, 7]          --\n",
       "│    └─Conv2dNormActivation: 2-1                        [32, 32, 112, 112]        --\n",
       "│    │    └─Conv2d: 3-1                                 [32, 32, 112, 112]        864\n",
       "│    │    └─BatchNorm2d: 3-2                            [32, 32, 112, 112]        64\n",
       "│    │    └─SiLU: 3-3                                   [32, 32, 112, 112]        --\n",
       "│    └─Sequential: 2-2                                  [32, 16, 112, 112]        --\n",
       "│    │    └─MBConv: 3-4                                 [32, 16, 112, 112]        1,448\n",
       "│    └─Sequential: 2-3                                  [32, 24, 56, 56]          --\n",
       "│    │    └─MBConv: 3-5                                 [32, 24, 56, 56]          6,004\n",
       "│    │    └─MBConv: 3-6                                 [32, 24, 56, 56]          10,710\n",
       "│    └─Sequential: 2-4                                  [32, 40, 28, 28]          --\n",
       "│    │    └─MBConv: 3-7                                 [32, 40, 28, 28]          15,350\n",
       "│    │    └─MBConv: 3-8                                 [32, 40, 28, 28]          31,290\n",
       "│    └─Sequential: 2-5                                  [32, 80, 14, 14]          --\n",
       "│    │    └─MBConv: 3-9                                 [32, 80, 14, 14]          37,130\n",
       "│    │    └─MBConv: 3-10                                [32, 80, 14, 14]          102,900\n",
       "│    │    └─MBConv: 3-11                                [32, 80, 14, 14]          102,900\n",
       "│    └─Sequential: 2-6                                  [32, 112, 14, 14]         --\n",
       "│    │    └─MBConv: 3-12                                [32, 112, 14, 14]         126,004\n",
       "│    │    └─MBConv: 3-13                                [32, 112, 14, 14]         208,572\n",
       "│    │    └─MBConv: 3-14                                [32, 112, 14, 14]         208,572\n",
       "│    └─Sequential: 2-7                                  [32, 192, 7, 7]           --\n",
       "│    │    └─MBConv: 3-15                                [32, 192, 7, 7]           262,492\n",
       "│    │    └─MBConv: 3-16                                [32, 192, 7, 7]           587,952\n",
       "│    │    └─MBConv: 3-17                                [32, 192, 7, 7]           587,952\n",
       "│    │    └─MBConv: 3-18                                [32, 192, 7, 7]           587,952\n",
       "│    └─Sequential: 2-8                                  [32, 320, 7, 7]           --\n",
       "│    │    └─MBConv: 3-19                                [32, 320, 7, 7]           717,232\n",
       "│    └─Conv2dNormActivation: 2-9                        [32, 1280, 7, 7]          --\n",
       "│    │    └─Conv2d: 3-20                                [32, 1280, 7, 7]          409,600\n",
       "│    │    └─BatchNorm2d: 3-21                           [32, 1280, 7, 7]          2,560\n",
       "│    │    └─SiLU: 3-22                                  [32, 1280, 7, 7]          --\n",
       "├─AdaptiveAvgPool2d: 1-2                                [32, 1280, 1, 1]          --\n",
       "├─Sequential: 1-3                                       [32, 1000]                --\n",
       "│    └─Dropout: 2-10                                    [32, 1280]                --\n",
       "│    └─Linear: 2-11                                     [32, 1000]                1,281,000\n",
       "=========================================================================================================\n",
       "Total params: 5,288,548\n",
       "Trainable params: 5,288,548\n",
       "Non-trainable params: 0\n",
       "Total mult-adds (G): 12.35\n",
       "=========================================================================================================\n",
       "Input size (MB): 19.27\n",
       "Forward/backward pass size (MB): 3452.35\n",
       "Params size (MB): 21.15\n",
       "Estimated Total Size (MB): 3492.77\n",
       "========================================================================================================="
      ]
     },
     "execution_count": 11,
     "metadata": {},
     "output_type": "execute_result"
    }
   ],
   "source": [
    "weights = torchvision.models.EfficientNet_B0_Weights.DEFAULT\n",
    "model = torchvision.models.efficientnet_b0(weights=weights).to(device)\n",
    "\n",
    "summary(model, input_size=(32, 3, 224, 224))\n"
   ]
  },
  {
   "cell_type": "code",
   "execution_count": 14,
   "metadata": {},
   "outputs": [
    {
     "data": {
      "text/plain": [
       "===========================================================================================================================================================\n",
       "Layer (type:depth-idx)                                  Input Shape               Output Shape              Param #                   Trainable\n",
       "===========================================================================================================================================================\n",
       "EfficientNet                                            [32, 3, 224, 224]         [32, 3]                   --                        Partial\n",
       "├─Sequential: 1-1                                       [32, 3, 224, 224]         [32, 1280, 7, 7]          --                        False\n",
       "│    └─Conv2dNormActivation: 2-1                        [32, 3, 224, 224]         [32, 32, 112, 112]        --                        False\n",
       "│    │    └─Conv2d: 3-1                                 [32, 3, 224, 224]         [32, 32, 112, 112]        (864)                     False\n",
       "│    │    └─BatchNorm2d: 3-2                            [32, 32, 112, 112]        [32, 32, 112, 112]        (64)                      False\n",
       "│    │    └─SiLU: 3-3                                   [32, 32, 112, 112]        [32, 32, 112, 112]        --                        --\n",
       "│    └─Sequential: 2-2                                  [32, 32, 112, 112]        [32, 16, 112, 112]        --                        False\n",
       "│    │    └─MBConv: 3-4                                 [32, 32, 112, 112]        [32, 16, 112, 112]        (1,448)                   False\n",
       "│    └─Sequential: 2-3                                  [32, 16, 112, 112]        [32, 24, 56, 56]          --                        False\n",
       "│    │    └─MBConv: 3-5                                 [32, 16, 112, 112]        [32, 24, 56, 56]          (6,004)                   False\n",
       "│    │    └─MBConv: 3-6                                 [32, 24, 56, 56]          [32, 24, 56, 56]          (10,710)                  False\n",
       "│    └─Sequential: 2-4                                  [32, 24, 56, 56]          [32, 40, 28, 28]          --                        False\n",
       "│    │    └─MBConv: 3-7                                 [32, 24, 56, 56]          [32, 40, 28, 28]          (15,350)                  False\n",
       "│    │    └─MBConv: 3-8                                 [32, 40, 28, 28]          [32, 40, 28, 28]          (31,290)                  False\n",
       "│    └─Sequential: 2-5                                  [32, 40, 28, 28]          [32, 80, 14, 14]          --                        False\n",
       "│    │    └─MBConv: 3-9                                 [32, 40, 28, 28]          [32, 80, 14, 14]          (37,130)                  False\n",
       "│    │    └─MBConv: 3-10                                [32, 80, 14, 14]          [32, 80, 14, 14]          (102,900)                 False\n",
       "│    │    └─MBConv: 3-11                                [32, 80, 14, 14]          [32, 80, 14, 14]          (102,900)                 False\n",
       "│    └─Sequential: 2-6                                  [32, 80, 14, 14]          [32, 112, 14, 14]         --                        False\n",
       "│    │    └─MBConv: 3-12                                [32, 80, 14, 14]          [32, 112, 14, 14]         (126,004)                 False\n",
       "│    │    └─MBConv: 3-13                                [32, 112, 14, 14]         [32, 112, 14, 14]         (208,572)                 False\n",
       "│    │    └─MBConv: 3-14                                [32, 112, 14, 14]         [32, 112, 14, 14]         (208,572)                 False\n",
       "│    └─Sequential: 2-7                                  [32, 112, 14, 14]         [32, 192, 7, 7]           --                        False\n",
       "│    │    └─MBConv: 3-15                                [32, 112, 14, 14]         [32, 192, 7, 7]           (262,492)                 False\n",
       "│    │    └─MBConv: 3-16                                [32, 192, 7, 7]           [32, 192, 7, 7]           (587,952)                 False\n",
       "│    │    └─MBConv: 3-17                                [32, 192, 7, 7]           [32, 192, 7, 7]           (587,952)                 False\n",
       "│    │    └─MBConv: 3-18                                [32, 192, 7, 7]           [32, 192, 7, 7]           (587,952)                 False\n",
       "│    └─Sequential: 2-8                                  [32, 192, 7, 7]           [32, 320, 7, 7]           --                        False\n",
       "│    │    └─MBConv: 3-19                                [32, 192, 7, 7]           [32, 320, 7, 7]           (717,232)                 False\n",
       "│    └─Conv2dNormActivation: 2-9                        [32, 320, 7, 7]           [32, 1280, 7, 7]          --                        False\n",
       "│    │    └─Conv2d: 3-20                                [32, 320, 7, 7]           [32, 1280, 7, 7]          (409,600)                 False\n",
       "│    │    └─BatchNorm2d: 3-21                           [32, 1280, 7, 7]          [32, 1280, 7, 7]          (2,560)                   False\n",
       "│    │    └─SiLU: 3-22                                  [32, 1280, 7, 7]          [32, 1280, 7, 7]          --                        --\n",
       "├─AdaptiveAvgPool2d: 1-2                                [32, 1280, 7, 7]          [32, 1280, 1, 1]          --                        --\n",
       "├─Sequential: 1-3                                       [32, 1280]                [32, 3]                   --                        True\n",
       "│    └─Dropout: 2-10                                    [32, 1280]                [32, 1280]                --                        --\n",
       "│    └─Linear: 2-11                                     [32, 1280]                [32, 3]                   3,843                     True\n",
       "===========================================================================================================================================================\n",
       "Total params: 4,011,391\n",
       "Trainable params: 3,843\n",
       "Non-trainable params: 4,007,548\n",
       "Total mult-adds (G): 12.31\n",
       "===========================================================================================================================================================\n",
       "Input size (MB): 19.27\n",
       "Forward/backward pass size (MB): 3452.09\n",
       "Params size (MB): 16.05\n",
       "Estimated Total Size (MB): 3487.41\n",
       "==========================================================================================================================================================="
      ]
     },
     "execution_count": 14,
     "metadata": {},
     "output_type": "execute_result"
    }
   ],
   "source": [
    "for param in model.features.parameters():\n",
    "    param.requires_grad = False\n",
    "\n",
    "model.classifier = nn.Sequential(\n",
    "    nn.Dropout(0.2, inplace=True),\n",
    "    nn.Linear(in_features=1280, \n",
    "              out_features=3, \n",
    "              bias=True)\n",
    ")\n",
    "model = model.to(device)\n",
    "\n",
    "summary(model, \n",
    "        input_size=(32, 3, 224, 224),\n",
    "        col_names=[\"input_size\", \"output_size\", \"num_params\", \"trainable\"],\n",
    ")"
   ]
  },
  {
   "cell_type": "markdown",
   "metadata": {},
   "source": [
    "### Train the model"
   ]
  },
  {
   "cell_type": "code",
   "execution_count": 28,
   "metadata": {},
   "outputs": [],
   "source": [
    "loss_fn = nn.CrossEntropyLoss()\n",
    "optimizer = torch.optim.Adam(model.parameters(), lr=0.001)\n",
    "\n",
    "# Create a writer with all default settings\n",
    "writer = SummaryWriter()\n",
    "\n",
    "def train(model, train_dataloader, test_dataloader, optimizer, loss_fn, epochs, device):\n",
    "\n",
    "    results = {\"train_loss\": [], \n",
    "               \"test_loss\": [], \n",
    "               \"train_acc\": [], \n",
    "               \"test_acc\": []\n",
    "               }\n",
    "    \n",
    "    for epoch in tqdm(range(epochs)):\n",
    "\n",
    "        train_loss, train_acc = engine.train_step(\n",
    "            model = model, \n",
    "            dataloader= train_dataloader, \n",
    "            loss_fn = loss_fn, \n",
    "            optimizer = optimizer,\n",
    "            device = device)\n",
    "        \n",
    "        test_loss, test_acc = engine.test_step(model=model,\n",
    "                                        dataloader=test_dataloader,\n",
    "                                        loss_fn=loss_fn,\n",
    "                                        device=device)\n",
    "        \n",
    "        print(\n",
    "          f\"Epoch: {epoch+1} | \"\n",
    "          f\"train_loss: {train_loss:.4f} | \"\n",
    "          f\"train_acc: {train_acc:.4f} | \"\n",
    "          f\"test_loss: {test_loss:.4f} | \"\n",
    "          f\"test_acc: {test_acc:.4f}\"\n",
    "        )\n",
    "\n",
    "        # Update results dictionary\n",
    "        results[\"train_loss\"].append(train_loss)\n",
    "        results[\"train_acc\"].append(train_acc)\n",
    "        results[\"test_loss\"].append(test_loss)\n",
    "        results[\"test_acc\"].append(test_acc)\n",
    "\n",
    "        # TensorBoard writer\n",
    "        writer.add_scalars(main_tag=\"Loss\", \n",
    "                          tag_scalar_dict={\"train loss\": train_loss, \"test loss\": test_loss},\n",
    "                          global_step=epoch\n",
    "                          )\n",
    "        writer.add_scalars(main_tag=\"Accuracy\",\n",
    "                          tag_scalar_dict={\"train acc\": train_acc, \"test acc\": test_acc},\n",
    "                          global_step=epoch\n",
    "                          )\n",
    "        \n",
    "        writer.add_graph(model=model, \n",
    "                         # Pass in an example input\n",
    "                         input_to_model=torch.randn(32, 3, 224, 224).to(device))\n",
    "    \n",
    "    # Close the writer\n",
    "    writer.close()\n",
    "    \n",
    "    return results\n",
    "\n"
   ]
  },
  {
   "cell_type": "code",
   "execution_count": 29,
   "metadata": {},
   "outputs": [
    {
     "name": "stderr",
     "output_type": "stream",
     "text": [
      "  0%|          | 0/5 [00:00<?, ?it/s]"
     ]
    },
    {
     "name": "stdout",
     "output_type": "stream",
     "text": [
      "Epoch: 1 | train_loss: 0.9162 | train_acc: 0.6250 | test_loss: 0.7138 | test_acc: 0.8040\n"
     ]
    },
    {
     "name": "stderr",
     "output_type": "stream",
     "text": [
      " 20%|██        | 1/5 [00:28<01:52, 28.03s/it]"
     ]
    },
    {
     "name": "stdout",
     "output_type": "stream",
     "text": [
      "Epoch: 2 | train_loss: 0.7176 | train_acc: 0.8789 | test_loss: 0.7458 | test_acc: 0.7945\n"
     ]
    },
    {
     "name": "stderr",
     "output_type": "stream",
     "text": [
      " 40%|████      | 2/5 [00:55<01:23, 27.77s/it]"
     ]
    },
    {
     "name": "stdout",
     "output_type": "stream",
     "text": [
      "Epoch: 3 | train_loss: 0.7041 | train_acc: 0.7578 | test_loss: 0.6738 | test_acc: 0.7538\n"
     ]
    },
    {
     "name": "stderr",
     "output_type": "stream",
     "text": [
      " 60%|██████    | 3/5 [01:28<01:00, 30.27s/it]"
     ]
    },
    {
     "name": "stdout",
     "output_type": "stream",
     "text": [
      "Epoch: 4 | train_loss: 0.6242 | train_acc: 0.7969 | test_loss: 0.6331 | test_acc: 0.8466\n"
     ]
    },
    {
     "name": "stderr",
     "output_type": "stream",
     "text": [
      " 80%|████████  | 4/5 [01:57<00:29, 29.65s/it]"
     ]
    },
    {
     "name": "stdout",
     "output_type": "stream",
     "text": [
      "Epoch: 5 | train_loss: 0.5998 | train_acc: 0.8086 | test_loss: 0.5292 | test_acc: 0.8551\n"
     ]
    },
    {
     "name": "stderr",
     "output_type": "stream",
     "text": [
      "100%|██████████| 5/5 [02:25<00:00, 29.13s/it]\n"
     ]
    }
   ],
   "source": [
    "results = train(model=model,\n",
    "                train_dataloader=train_dataloader,\n",
    "                test_dataloader=test_dataloader,\n",
    "                optimizer=optimizer,\n",
    "                loss_fn=loss_fn,\n",
    "                epochs=5,\n",
    "                device=device)"
   ]
  },
  {
   "cell_type": "code",
   "execution_count": null,
   "metadata": {},
   "outputs": [
    {
     "name": "stdout",
     "output_type": "stream",
     "text": [
      "Requirement already satisfied: tensorboard in e:\\python-codes\\pytorch\\packages\\lib\\site-packages (2.18.0)\n",
      "Requirement already satisfied: absl-py>=0.4 in e:\\python-codes\\pytorch\\packages\\lib\\site-packages (from tensorboard) (2.1.0)\n",
      "Requirement already satisfied: grpcio>=1.48.2 in e:\\python-codes\\pytorch\\packages\\lib\\site-packages (from tensorboard) (1.68.1)\n",
      "Requirement already satisfied: markdown>=2.6.8 in e:\\python-codes\\pytorch\\packages\\lib\\site-packages (from tensorboard) (3.7)\n",
      "Requirement already satisfied: numpy>=1.12.0 in e:\\python-codes\\pytorch\\packages\\lib\\site-packages (from tensorboard) (1.26.3)\n",
      "Requirement already satisfied: packaging in e:\\python-codes\\pytorch\\packages\\lib\\site-packages (from tensorboard) (24.2)\n",
      "Requirement already satisfied: protobuf!=4.24.0,>=3.19.6 in e:\\python-codes\\pytorch\\packages\\lib\\site-packages (from tensorboard) (5.29.2)\n",
      "Requirement already satisfied: setuptools>=41.0.0 in e:\\python-codes\\pytorch\\packages\\lib\\site-packages (from tensorboard) (65.5.0)\n",
      "Requirement already satisfied: six>1.9 in e:\\python-codes\\pytorch\\packages\\lib\\site-packages (from tensorboard) (1.17.0)\n",
      "Requirement already satisfied: tensorboard-data-server<0.8.0,>=0.7.0 in e:\\python-codes\\pytorch\\packages\\lib\\site-packages (from tensorboard) (0.7.2)\n",
      "Requirement already satisfied: werkzeug>=1.0.1 in e:\\python-codes\\pytorch\\packages\\lib\\site-packages (from tensorboard) (3.1.3)\n",
      "Requirement already satisfied: MarkupSafe>=2.1.1 in e:\\python-codes\\pytorch\\packages\\lib\\site-packages (from werkzeug>=1.0.1->tensorboard) (2.1.5)\n",
      "Note: you may need to restart the kernel to use updated packages.\n",
      "The tensorboard extension is already loaded. To reload it, use:\n",
      "  %reload_ext tensorboard\n"
     ]
    },
    {
     "data": {
      "text/plain": [
       "Reusing TensorBoard on port 6007 (pid 9384), started 0:00:13 ago. (Use '!kill 9384' to kill it.)"
      ]
     },
     "metadata": {},
     "output_type": "display_data"
    },
    {
     "data": {
      "text/html": [
       "\n",
       "      <iframe id=\"tensorboard-frame-bc1bb5b8f9707adb\" width=\"100%\" height=\"800\" frameborder=\"0\">\n",
       "      </iframe>\n",
       "      <script>\n",
       "        (function() {\n",
       "          const frame = document.getElementById(\"tensorboard-frame-bc1bb5b8f9707adb\");\n",
       "          const url = new URL(\"http://localhost\");\n",
       "          const port = 6007;\n",
       "          if (port) {\n",
       "            url.port = port;\n",
       "          }\n",
       "          frame.src = url;\n",
       "        })();\n",
       "      </script>\n",
       "    "
      ],
      "text/plain": [
       "<IPython.core.display.HTML object>"
      ]
     },
     "metadata": {},
     "output_type": "display_data"
    }
   ],
   "source": [
    "%pip install tensorboard\n",
    "%load_ext tensorboard\n",
    "%tensorboard --logdir runs"
   ]
  },
  {
   "cell_type": "code",
   "execution_count": 38,
   "metadata": {},
   "outputs": [
    {
     "name": "stdout",
     "output_type": "stream",
     "text": [
      "[INFO] Created SummaryWriter, saving to: runs\\2025-01-02\\data_10_percent\\effnetb0\\5_epochs...\n"
     ]
    }
   ],
   "source": [
    "from going_modular import experiment_tracking\n",
    "\n",
    "example_writer = experiment_tracking.create_writer(experiment_name=\"data_10_percent\",\n",
    "                               model_name=\"effnetb0\",\n",
    "                               extra=\"5_epochs\")"
   ]
  }
 ],
 "metadata": {
  "kernelspec": {
   "display_name": "packages",
   "language": "python",
   "name": "python3"
  },
  "language_info": {
   "codemirror_mode": {
    "name": "ipython",
    "version": 3
   },
   "file_extension": ".py",
   "mimetype": "text/x-python",
   "name": "python",
   "nbconvert_exporter": "python",
   "pygments_lexer": "ipython3",
   "version": "3.10.9"
  }
 },
 "nbformat": 4,
 "nbformat_minor": 2
}
