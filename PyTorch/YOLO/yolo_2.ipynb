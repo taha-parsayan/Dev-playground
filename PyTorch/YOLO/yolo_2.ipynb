{
 "cells": [
  {
   "cell_type": "markdown",
   "id": "8960b3df",
   "metadata": {},
   "source": [
    "# Fine tunning YOLO on candy images"
   ]
  },
  {
   "cell_type": "markdown",
   "id": "70c36cbc",
   "metadata": {},
   "source": [
    "I got data from the robo flow website.\n",
    "The data consists of 3 types of candy:\n",
    "1. apple\n",
    "2. cola\n",
    "3. grape\n",
    "\n",
    "All the images are labeled"
   ]
  },
  {
   "cell_type": "markdown",
   "id": "45124ab7",
   "metadata": {},
   "source": [
    "### GitHUb"
   ]
  },
  {
   "cell_type": "code",
   "execution_count": null,
   "id": "55a3f92d",
   "metadata": {},
   "outputs": [
    {
     "name": "stdout",
     "output_type": "stream",
     "text": [
      "Error executing command: ['git', 'commit', '-m', 'Add yolo_2.ipynb']\n",
      "Error message: \n",
      "Error executing command: ['git', 'commit', '-m', 'Add yolo_2.ipynb']\n",
      "Error message: \n",
      "Error executing command: ['git', 'commit', '-m', 'Add yolo_2.ipynb']\n",
      "Error message: \n",
      "Error executing command: ['git', 'commit', '-m', 'Add yolo_2.ipynb']\n",
      "Error message: \n",
      "Error executing command: ['git', 'commit', '-m', 'Add yolo_2.ipynb']\n",
      "Error message: \n",
      "Error executing command: ['git', 'commit', '-m', 'Add yolo_2.ipynb']\n",
      "Error message: \n",
      "Error executing command: ['git', 'commit', '-m', 'Add yolo_2.ipynb']\n",
      "Error message: \n",
      "Error executing command: ['git', 'commit', '-m', 'Add yolo_2.ipynb']\n",
      "Error message: \n",
      "Error executing command: ['git', 'commit', '-m', 'Add yolo_2.ipynb']\n",
      "Error message: \n",
      "Error executing command: ['git', 'commit', '-m', 'Add yolo_2.ipynb']\n",
      "Error message: \n",
      "Error executing command: ['git', 'commit', '-m', 'Add yolo_2.ipynb']\n",
      "Error message: \n",
      "Error executing command: ['git', 'commit', '-m', 'Add yolo_2.ipynb']\n",
      "Error message: \n",
      "Error executing command: ['git', 'commit', '-m', 'Add yolo_2.ipynb']\n",
      "Error message: \n"
     ]
    }
   ],
   "source": [
    "import os\n",
    "import sys\n",
    "current_dir = os.getcwd()\n",
    "parent_dir = os.path.abspath(\"../../\")\n",
    "sys.path.append(parent_dir)\n",
    "from Update_Git import git_add, git_commit, git_push\n",
    "\n",
    "path = os.path.join(current_dir, \"yolo_2.ipynb\")\n",
    "for i in range(30):\n",
    "    if os.path.exists(path):\n",
    "        git_add(path)\n",
    "        git_commit(\"Add yolo_2.ipynb\")\n",
    "        git_push(\"main\")\n",
    "    else:\n",
    "        print(\"File does not exist.\")"
   ]
  },
  {
   "cell_type": "markdown",
   "id": "4e782e39",
   "metadata": {},
   "source": [
    "### Install YOLO"
   ]
  },
  {
   "cell_type": "code",
   "execution_count": null,
   "id": "52f1baaa",
   "metadata": {},
   "outputs": [],
   "source": [
    "! pip install ultralytics\n"
   ]
  },
  {
   "cell_type": "markdown",
   "id": "1d5d3063",
   "metadata": {},
   "source": [
    "### Label Studio\n",
    "Use label studio to label the images (if already not labeled)"
   ]
  },
  {
   "cell_type": "code",
   "execution_count": null,
   "id": "76a6f55c",
   "metadata": {},
   "outputs": [],
   "source": [
    "! pip install label-studio"
   ]
  },
  {
   "cell_type": "code",
   "execution_count": null,
   "id": "e172478b",
   "metadata": {},
   "outputs": [],
   "source": [
    "! label-studio start"
   ]
  },
  {
   "cell_type": "markdown",
   "id": "337ce133",
   "metadata": {},
   "source": [
    "### Split data\n",
    "Split into train and validation (if already not)"
   ]
  },
  {
   "cell_type": "code",
   "execution_count": null,
   "id": "b26e9e2c",
   "metadata": {},
   "outputs": [],
   "source": [
    "# TO DO: Improve robustness of train_val_split.py script so it can handle nested data folders, etc\n",
    "# !python train_val_split.py --datapath=\"/content/custom_data\" --train_pct=0.9"
   ]
  },
  {
   "cell_type": "markdown",
   "id": "0e1721b2",
   "metadata": {},
   "source": [
    "### Configure training\n",
    "There is one step before we can run training: we need to create the Ultralytics training configuration YAML file. This file specifies the location of your train and validation data, and it also defines the model's classes."
   ]
  },
  {
   "cell_type": "code",
   "execution_count": null,
   "id": "6c3282c7",
   "metadata": {},
   "outputs": [],
   "source": [
    "# Python function to automatically create data.yaml config file\n",
    "# 1. Reads \"classes.txt\" file to get list of class names\n",
    "# 2. Creates data dictionary with correct paths to folders, number of classes, and names of classes\n",
    "# 3. Writes data in YAML format to data.yaml\n",
    "\n",
    "import yaml\n",
    "import os\n",
    "\n",
    "def create_data_yaml(path_to_classes_txt, path_to_data_yaml):\n",
    "\n",
    "  # Read class.txt to get class names\n",
    "  if not os.path.exists(path_to_classes_txt):\n",
    "    print(f'classes.txt file not found! Please create a classes.txt labelmap and move it to {path_to_classes_txt}')\n",
    "    return\n",
    "  with open(path_to_classes_txt, 'r') as f:\n",
    "    classes = []\n",
    "    for line in f.readlines():\n",
    "      if len(line.strip()) == 0: continue\n",
    "      classes.append(line.strip())\n",
    "  number_of_classes = len(classes)\n",
    "\n",
    "  # Create data dictionary\n",
    "  data = {\n",
    "      'path': 'D:/Python-codes/Test_codes/PyTorch/YOLO/datasets/candy',\n",
    "      'train': 'train/images',\n",
    "      'val': 'valid/images',\n",
    "      'nc': number_of_classes,\n",
    "      'names': classes\n",
    "  }\n",
    "\n",
    "  # Write data to YAML file\n",
    "  with open(path_to_data_yaml, 'w') as f:\n",
    "    yaml.dump(data, f, sort_keys=False)\n",
    "  print(f'Created config file at {path_to_data_yaml}')\n",
    "\n",
    "  return\n",
    "\n",
    "current_path = os.getcwd()\n",
    "\n",
    "# Define path to classes.txt and run function\n",
    "path_to_classes_txt = os.path.join('datasets', 'candy', 'classes.txt')\n",
    "path_to_data_yaml = os.path.join('datasets', 'candy', 'data.yaml')\n",
    "\n",
    "create_data_yaml(path_to_classes_txt, path_to_data_yaml)\n",
    "\n",
    "print('\\nFile contents:\\n')\n",
    "with open(path_to_data_yaml, \"r\") as f:\n",
    "    print(f.read())"
   ]
  },
  {
   "cell_type": "markdown",
   "id": "82a14602",
   "metadata": {},
   "source": [
    "### Train"
   ]
  },
  {
   "cell_type": "code",
   "execution_count": null,
   "id": "15384701",
   "metadata": {},
   "outputs": [],
   "source": [
    "! pip install ultralytics --upgrade\n"
   ]
  },
  {
   "cell_type": "code",
   "execution_count": null,
   "id": "3ac7d3b2",
   "metadata": {},
   "outputs": [],
   "source": [
    "from ultralytics import YOLO\n",
    "\n",
    "model = YOLO(\"yolo11s.pt\")\n",
    "model.train(data=\"datasets/candy/data.yaml\", epochs=25, imgsz=640, device=0)"
   ]
  }
 ],
 "metadata": {
  "kernelspec": {
   "display_name": "packages",
   "language": "python",
   "name": "python3"
  },
  "language_info": {
   "codemirror_mode": {
    "name": "ipython",
    "version": 3
   },
   "file_extension": ".py",
   "mimetype": "text/x-python",
   "name": "python",
   "nbconvert_exporter": "python",
   "pygments_lexer": "ipython3",
   "version": "3.10.9"
  }
 },
 "nbformat": 4,
 "nbformat_minor": 5
}
