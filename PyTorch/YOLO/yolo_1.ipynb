{
 "cells": [
  {
   "cell_type": "code",
   "execution_count": null,
   "metadata": {},
   "outputs": [],
   "source": [
    "! pip install torch torchvision torchaudio --index-url https://download.pytorch.org/whl/cu118"
   ]
  },
  {
   "cell_type": "code",
   "execution_count": 1,
   "metadata": {},
   "outputs": [
    {
     "name": "stdout",
     "output_type": "stream",
     "text": [
      "Error executing command: ['git', 'add', 'path_to_your_file']\n",
      "Error message: fatal: pathspec 'path_to_your_file' did not match any files\n",
      "\n",
      "Failed to add path_to_your_file to git.\n",
      "cuda\n"
     ]
    }
   ],
   "source": [
    "# import required packages\n",
    "import cv2\n",
    "import numpy as np\n",
    "import os\n",
    "'pip install ultralytics'\n",
    "from ultralytics import YOLO\n",
    "import math \n",
    "import sys\n",
    "current_dir = os.getcwd()\n",
    "parent_dir = os.path.abspath(\"../../\")\n",
    "sys.path.append(parent_dir)\n",
    "from Update_Git import git_add, git_commit, git_push\n",
    "import torch\n",
    "\n",
    "device = \"cuda\" if torch.cuda.is_available() else \"cpu\"\n",
    "print(device)"
   ]
  },
  {
   "cell_type": "markdown",
   "metadata": {},
   "source": [
    "### GitHub"
   ]
  },
  {
   "cell_type": "code",
   "execution_count": null,
   "metadata": {},
   "outputs": [
    {
     "name": "stdout",
     "output_type": "stream",
     "text": [
      "Error executing command: ['git', 'commit', '-m', 'Add yolo_1.ipynb']\n",
      "Error message: \n",
      "Error executing command: ['git', 'commit', '-m', 'Add yolo_1.ipynb']\n",
      "Error message: \n",
      "Error executing command: ['git', 'commit', '-m', 'Add yolo_1.ipynb']\n",
      "Error message: \n",
      "Error executing command: ['git', 'commit', '-m', 'Add yolo_1.ipynb']\n",
      "Error message: \n",
      "Error executing command: ['git', 'commit', '-m', 'Add yolo_1.ipynb']\n",
      "Error message: \n",
      "Error executing command: ['git', 'commit', '-m', 'Add yolo_1.ipynb']\n",
      "Error message: \n",
      "Error executing command: ['git', 'commit', '-m', 'Add yolo_1.ipynb']\n",
      "Error message: \n",
      "Error executing command: ['git', 'commit', '-m', 'Add yolo_1.ipynb']\n",
      "Error message: \n"
     ]
    }
   ],
   "source": [
    "path = os.path.join(current_dir, \"yolo_1.ipynb\")\n",
    "for i in range(26):\n",
    "    if os.path.exists(path):\n",
    "        git_add(path)\n",
    "        git_commit(\"Add yolo_1.ipynb\")\n",
    "        git_push(\"main\")\n",
    "    else:\n",
    "        print(\"File does not exist.\")"
   ]
  },
  {
   "cell_type": "markdown",
   "metadata": {},
   "source": [
    "### Model"
   ]
  },
  {
   "cell_type": "code",
   "execution_count": null,
   "metadata": {},
   "outputs": [],
   "source": [
    "model = YOLO(\"yolo-Weights/yolov8n.pt\")\n",
    "\n",
    "classNames = [\"person\", \"bicycle\", \"car\", \"motorbike\", \"aeroplane\", \"bus\", \"train\", \"truck\", \"boat\",\n",
    "              \"traffic light\", \"fire hydrant\", \"stop sign\", \"parking meter\", \"bench\", \"bird\", \"cat\",\n",
    "              \"dog\", \"horse\", \"sheep\", \"cow\", \"elephant\", \"bear\", \"zebra\", \"giraffe\", \"backpack\", \"umbrella\",\n",
    "              \"handbag\", \"tie\", \"suitcase\", \"frisbee\", \"skis\", \"snowboard\", \"sports ball\", \"kite\", \"baseball bat\",\n",
    "              \"baseball glove\", \"skateboard\", \"surfboard\", \"tennis racket\", \"bottle\", \"wine glass\", \"cup\",\n",
    "              \"fork\", \"knife\", \"spoon\", \"bowl\", \"banana\", \"apple\", \"sandwich\", \"orange\", \"broccoli\",\n",
    "              \"carrot\", \"hot dog\", \"pizza\", \"donut\", \"cake\", \"chair\", \"sofa\", \"pottedplant\", \"bed\",\n",
    "              \"diningtable\", \"toilet\", \"tvmonitor\", \"laptop\", \"mouse\", \"remote\", \"keyboard\", \"cell phone\",\n",
    "              \"microwave\", \"oven\", \"toaster\", \"sink\", \"refrigerator\", \"book\", \"clock\", \"vase\", \"scissors\",\n",
    "              \"teddy bear\", \"hair drier\", \"toothbrush\"\n",
    "              ]"
   ]
  },
  {
   "cell_type": "markdown",
   "metadata": {},
   "source": [
    "### Apply YOLO to an image"
   ]
  },
  {
   "cell_type": "code",
   "execution_count": null,
   "metadata": {},
   "outputs": [],
   "source": [
    "# Load an image\n",
    "img_path = \"data/test/dog.jpg\"\n",
    "image = cv2.imread(img_path)\n",
    "\n",
    "# Apply the model to the image\n",
    "results = model(img_path)\n",
    "\n",
    "# Show the results\n",
    "results[0].show()\n",
    "results[0].save(os.path.join(current_dir, r\"data\\results\\dog_output.jpg\"))\n"
   ]
  },
  {
   "cell_type": "code",
   "execution_count": null,
   "metadata": {},
   "outputs": [],
   "source": [
    "# Draw detections manually\n",
    "\n",
    "# Loop through each detection result (e.g., one per image)\n",
    "for result in results:\n",
    "    \n",
    "    # Loop through each detected bounding box in the result\n",
    "    for box in result.boxes:\n",
    "        \n",
    "        # Extract the coordinates of the bounding box corners: top-left (x1, y1) and bottom-right (x2, y2)\n",
    "        # `box.xyxy[0]` is a tensor like [x1, y1, x2, y2], so we convert it to a list\n",
    "        x1, y1, x2, y2 = box.xyxy[0].tolist()\n",
    "        \n",
    "        # Get the predicted class index (e.g., 0 = dog, 1 = cat, etc.)\n",
    "        cls = int(box.cls[0])\n",
    "        \n",
    "        # Get the confidence score (probability that the detection is correct)\n",
    "        conf = box.conf[0]\n",
    "        \n",
    "        # Build a label string like \"dog 0.92\"\n",
    "        label = f\"{classNames[cls]} {conf:.2f}\"\n",
    "        \n",
    "        # Draw the bounding box on the image (blue rectangle)\n",
    "        cv2.rectangle(image, (int(x1), int(y1)), (int(x2), int(y2)), (255, 0, 0), 2)\n",
    "        \n",
    "        # Draw the class label and confidence above the bounding box\n",
    "        cv2.putText(image, label, (int(x1), int(y1) - 10),\n",
    "                    cv2.FONT_HERSHEY_SIMPLEX, 0.5, (255, 0, 0), 2)\n",
    "\n",
    "# Display the image\n",
    "cv2.imshow(\"YOLOv8 Detection\", image)\n",
    "cv2.waitKey(0)\n",
    "cv2.destroyAllWindows()\n"
   ]
  },
  {
   "cell_type": "markdown",
   "metadata": {},
   "source": [
    "### Apply YOLO to webcam"
   ]
  },
  {
   "cell_type": "code",
   "execution_count": null,
   "metadata": {},
   "outputs": [],
   "source": [
    "cap = cv2.VideoCapture(0)\n",
    "cap.set(3, 640)\n",
    "cap.set(4, 480)\n",
    "\n",
    "while True:\n",
    "    success, img = cap.read()\n",
    "    results = model(img, stream=True) #It returns a generator that yields results one at a time — rather than returning a full list all at once.\n",
    "\n",
    "    # coordinates\n",
    "    for r in results:\n",
    "        boxes = r.boxes\n",
    "\n",
    "        for box in boxes:\n",
    "            # bounding box\n",
    "            x1, y1, x2, y2 = box.xyxy[0]\n",
    "            x1, y1, x2, y2 = int(x1), int(y1), int(x2), int(y2) # convert to int values\n",
    "\n",
    "            # put box in cam\n",
    "            cv2.rectangle(img, (x1, y1), (x2, y2), (0, 0, 255), 3)\n",
    "\n",
    "            # confidence\n",
    "            confidence = math.ceil((box.conf[0]*100))/100\n",
    "            print(\"Confidence --->\",confidence)\n",
    "\n",
    "            # class name\n",
    "            cls = int(box.cls[0])\n",
    "            print(\"Class name -->\", classNames[cls])\n",
    "\n",
    "            # object details\n",
    "            org = [x1, y1]\n",
    "            font = cv2.FONT_HERSHEY_SIMPLEX\n",
    "            fontScale = 1\n",
    "            color = (0, 0, 255)\n",
    "            thickness = 2\n",
    "\n",
    "            cv2.putText(img, classNames[cls], org, font, fontScale, color, thickness)\n",
    "\n",
    "    cv2.imshow('Webcam', img)\n",
    "    if cv2.waitKey(200) == ord('q'):\n",
    "        break\n",
    "\n",
    "cap.release()\n",
    "cv2.destroyAllWindows()"
   ]
  }
 ],
 "metadata": {
  "kernelspec": {
   "display_name": "packages",
   "language": "python",
   "name": "python3"
  },
  "language_info": {
   "codemirror_mode": {
    "name": "ipython",
    "version": 3
   },
   "file_extension": ".py",
   "mimetype": "text/x-python",
   "name": "python",
   "nbconvert_exporter": "python",
   "pygments_lexer": "ipython3",
   "version": "3.10.9"
  }
 },
 "nbformat": 4,
 "nbformat_minor": 2
}
