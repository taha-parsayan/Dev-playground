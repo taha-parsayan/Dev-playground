{
 "cells": [
  {
   "cell_type": "markdown",
   "metadata": {},
   "source": [
    "# This is a test code for converting XML file from Health app tp JSON"
   ]
  },
  {
   "cell_type": "markdown",
   "metadata": {},
   "source": [
    "## Import"
   ]
  },
  {
   "cell_type": "code",
   "execution_count": 3,
   "metadata": {},
   "outputs": [],
   "source": [
    "import xml.etree.ElementTree as ET\n",
    "import json\n",
    "import os\n",
    "import sys\n",
    "import pandas as pd\n",
    "from collections import defaultdict\n",
    "\n",
    "current_path = os.getcwd()\n",
    "parrent_path = os.path.abspath(os.path.join(current_path, '..'))\n",
    "sys.path.append(parrent_path)\n",
    "\n",
    "from Update_Git import git_add, git_commit, git_push\n"
   ]
  },
  {
   "cell_type": "markdown",
   "metadata": {},
   "source": [
    "## Update Git Repo"
   ]
  },
  {
   "cell_type": "code",
   "execution_count": 8,
   "metadata": {},
   "outputs": [
    {
     "data": {
      "text/plain": [
       "''"
      ]
     },
     "execution_count": 8,
     "metadata": {},
     "output_type": "execute_result"
    }
   ],
   "source": [
    "file_path = os.path.join(current_path, 'Read_XML.ipynb')\n",
    "git_add(file_path)\n",
    "git_commit('Updated dahsbord: Read_XML.ipynb')\n",
    "git_push('main')"
   ]
  },
  {
   "cell_type": "markdown",
   "metadata": {},
   "source": [
    "## Read the xml file (takes 1m)"
   ]
  },
  {
   "cell_type": "code",
   "execution_count": 4,
   "metadata": {},
   "outputs": [],
   "source": [
    "data_path = os.path.abspath(\"E:\\Maylab\\Data\\Komprimeret arkiv\\Albi\\eksport.xml\")\n",
    "tree = ET.parse(data_path)\n",
    "root = tree.getroot()"
   ]
  },
  {
   "cell_type": "markdown",
   "metadata": {},
   "source": [
    "# Extract the required info from the data"
   ]
  },
  {
   "cell_type": "markdown",
   "metadata": {},
   "source": [
    "## Clean the data"
   ]
  },
  {
   "cell_type": "code",
   "execution_count": 61,
   "metadata": {},
   "outputs": [],
   "source": [
    "# Initialize a list to store extracted data\n",
    "data = []"
   ]
  },
  {
   "cell_type": "markdown",
   "metadata": {},
   "source": [
    "### General data\n",
    " \"Category\": \"User Info\""
   ]
  },
  {
   "cell_type": "code",
   "execution_count": 62,
   "metadata": {},
   "outputs": [],
   "source": [
    "# Extract user info (Me tag)\n",
    "user_info = root.find(\"Me\")  # Check if \"Me\" exists\n",
    "if user_info is not None:\n",
    "    user_attribs = user_info.attrib\n",
    "    date_of_birth = user_attribs.get(\"HKCharacteristicTypeIdentifierDateOfBirth\", \"N/A\")\n",
    "    biological_sex = user_attribs.get(\"HKCharacteristicTypeIdentifierBiologicalSex\", \"N/A\")\n",
    "\n",
    "    # Fix gender handling\n",
    "    if biological_sex == \"HKBiologicalSexFemale\":\n",
    "        gender = \"Female\"\n",
    "    elif biological_sex == \"HKBiologicalSexMale\":\n",
    "        gender = \"Male\"\n",
    "    else:\n",
    "        gender = \"Unknown\"\n",
    "\n",
    "    blood_type = user_attribs.get(\"HKCharacteristicTypeIdentifierBloodType\", \"N/A\")\n",
    "    skin_type = user_attribs.get(\"HKCharacteristicTypeIdentifierFitzpatrickSkinType\", \"N/A\")\n",
    "    medications_use = user_attribs.get(\"HKCharacteristicTypeIdentifierCardioFitnessMedicationsUse\", \"N/A\")\n",
    "\n",
    "    data.append({\n",
    "        \"Category\": \"User Info\",\n",
    "        \"Date of Birth\": date_of_birth,\n",
    "        \"Biological Sex\": gender,\n",
    "        \"Blood Type\": blood_type,\n",
    "        \"Skin Type\": skin_type,\n",
    "        \"Medications Use\": medications_use\n",
    "    })"
   ]
  },
  {
   "cell_type": "markdown",
   "metadata": {},
   "source": [
    "### Height and body mass\n",
    "\"Category\": \"Health Data\""
   ]
  },
  {
   "cell_type": "code",
   "execution_count": 63,
   "metadata": {},
   "outputs": [],
   "source": [
    "# Extract height, weight, and other records\n",
    "for record in root.findall(\"Record\"):\n",
    "    record_type = record.attrib.get(\"type\", \"\")\n",
    "    if record_type in [\"HKQuantityTypeIdentifierHeight\", \"HKQuantityTypeIdentifierBodyMass\"]:\n",
    "        data.append({\n",
    "            \"Category\": \"Health Data\",\n",
    "            \"Type\": record_type,\n",
    "            \"Source\": record.attrib.get(\"sourceName\", \"N/A\"),\n",
    "            \"Value\": record.attrib.get(\"value\", \"N/A\"),\n",
    "            \"Unit\": record.attrib.get(\"unit\", \"N/A\"),\n",
    "            \"Creation Date\": record.attrib.get(\"creationDate\", \"N/A\"),\n",
    "            \"Start Date\": record.attrib.get(\"startDate\", \"N/A\"),\n",
    "            \"End Date\": record.attrib.get(\"endDate\", \"N/A\")\n",
    "        })"
   ]
  },
  {
   "cell_type": "markdown",
   "metadata": {},
   "source": [
    "## Step Counts\n",
    "\"Category\": \"Step Counts\""
   ]
  },
  {
   "cell_type": "code",
   "execution_count": 64,
   "metadata": {},
   "outputs": [],
   "source": [
    "# Dictionary to store daily step count\n",
    "daily_steps = defaultdict(int)\n",
    "num_days = 7\n",
    "\n",
    "# Extract step count records\n",
    "for record in root.findall(\"Record\"):\n",
    "    record_type = record.attrib.get(\"type\", \"\")\n",
    "    \n",
    "    if record_type == \"HKQuantityTypeIdentifierStepCount\":\n",
    "        step_value = int(record.attrib.get(\"value\", 0))  # Convert value to integer\n",
    "        start_date = record.attrib.get(\"startDate\", \"\").split(\" \")[0]  # Extract only YYYY-MM-DD\n",
    "        \n",
    "        if start_date:\n",
    "            daily_steps[start_date] += step_value  # Sum step counts per day\n",
    "\n",
    "        # Stop when we have data for 7 unique days\n",
    "        if len(daily_steps) == num_days:\n",
    "            break\n",
    "\n",
    "# Sort daily_steps by date in descending order\n",
    "sorted_steps = sorted(daily_steps.items(), key=lambda x: x[0], reverse=True)\n",
    "\n",
    "# Append aggregated daily step data to `data` list\n",
    "for date, total_steps in sorted_steps:\n",
    "    data.append({\n",
    "        \"Category\": \"Daily Step Count\",\n",
    "        \"Date\": date,\n",
    "        \"Total Steps\": total_steps\n",
    "    })"
   ]
  },
  {
   "cell_type": "markdown",
   "metadata": {},
   "source": [
    "## Heart Rate Variability\n",
    "\"Category\": \"HRV\""
   ]
  },
  {
   "cell_type": "code",
   "execution_count": 65,
   "metadata": {},
   "outputs": [],
   "source": [
    "# Dictionary to store daily HRV values\n",
    "daily_hrv = defaultdict(list)\n",
    "num_days = 7\n",
    "\n",
    "# Extract HRV records\n",
    "for record in root.findall(\"Record\"):\n",
    "    record_type = record.attrib.get(\"type\", \"\")\n",
    "    \n",
    "    if record_type == \"HKQuantityTypeIdentifierHeartRateVariabilitySDNN\":\n",
    "        value = float(record.attrib.get(\"value\", 0))  # Convert to float\n",
    "        start_date = record.attrib.get(\"startDate\", \"\").split(\" \")[0]  # Extract only YYYY-MM-DD\n",
    "        \n",
    "        if start_date:\n",
    "            daily_hrv[start_date].append(value)  # Store HRV per day\n",
    "\n",
    "        # Stop when we have data for 7 unique days\n",
    "        if len(daily_hrv) == num_days:\n",
    "            break\n",
    "\n",
    "# Compute daily average HRV\n",
    "avg_hrv_per_day = {\n",
    "    date: round(sum(hrv_values) / len(hrv_values), 2)  # Compute average HRV & round\n",
    "    for date, hrv_values in daily_hrv.items()\n",
    "}\n",
    "\n",
    "# Sort HRV data by date in descending order\n",
    "sorted_hrv = sorted(avg_hrv_per_day.items(), key=lambda x: x[0], reverse=True)\n",
    "\n",
    "# Append sorted HRV data to `data` list\n",
    "for date, avg_hrv in sorted_hrv:\n",
    "    data.append({\n",
    "        \"Category\": \"HRV\",\n",
    "        \"Date\": date,\n",
    "        \"Average HRV (ms)\": avg_hrv\n",
    "    })"
   ]
  },
  {
   "cell_type": "markdown",
   "metadata": {},
   "source": [
    "# Collect all data and create JSON & CSV"
   ]
  },
  {
   "cell_type": "code",
   "execution_count": 66,
   "metadata": {},
   "outputs": [],
   "source": [
    "# Convert to pandas DataFrame for better visualization\n",
    "df = pd.DataFrame(data)\n",
    "\n",
    "# Save to CSV or JSON if needed\n",
    "df.to_csv(\"health_data.csv\", index=False)\n",
    "df.to_json(\"health_data.json\", orient=\"records\", indent=2)"
   ]
  }
 ],
 "metadata": {
  "kernelspec": {
   "display_name": "Python 3",
   "language": "python",
   "name": "python3"
  },
  "language_info": {
   "codemirror_mode": {
    "name": "ipython",
    "version": 3
   },
   "file_extension": ".py",
   "mimetype": "text/x-python",
   "name": "python",
   "nbconvert_exporter": "python",
   "pygments_lexer": "ipython3",
   "version": "3.10.9"
  }
 },
 "nbformat": 4,
 "nbformat_minor": 2
}
