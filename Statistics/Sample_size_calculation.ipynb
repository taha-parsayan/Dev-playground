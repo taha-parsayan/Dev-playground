{
 "cells": [
  {
   "cell_type": "markdown",
   "metadata": {},
   "source": [
    "This code performs a power analysis for a one-way ANOVA test. Useful for power calculation and sample size calculation.\n",
    "Below is the Python code to calculate the effect size (Cohen’s w) for a chi-square test, which measures the strength of association between diagnosis categories and the predicted classification."
   ]
  },
  {
   "cell_type": "code",
   "execution_count": 20,
   "metadata": {},
   "outputs": [
    {
     "name": "stdout",
     "output_type": "stream",
     "text": [
      "Estimated required sample size per group: 87\n"
     ]
    }
   ],
   "source": [
    "import statsmodels.stats.power as smp\n",
    "\n",
    "# Parameters for power analysis\n",
    "alpha = 0.05  # Significance level (5% chance of Type I error)\n",
    "power = 0.8  # Desired statistical power (80% chance of detecting an effect)\n",
    "effect_size = 0.3  # Cohen's w (moderate effect size, can adjust based on expectations)\n",
    "\n",
    "# Compute the required sample size for a chi-square test using the GofChisquarePower function\n",
    "sample_size = smp.GofChisquarePower().solve_power(effect_size=effect_size, nobs=None, alpha=alpha, power=power)\n",
    "\n",
    "# Print the estimated sample size\n",
    "print(f\"Estimated required sample size per group: {int(sample_size)}\")\n"
   ]
  },
  {
   "cell_type": "code",
   "execution_count": 18,
   "metadata": {},
   "outputs": [
    {
     "name": "stdout",
     "output_type": "stream",
     "text": [
      "Estimated required sample size per group: 110\n",
      "Estimated total sample size: 330\n"
     ]
    }
   ],
   "source": [
    "import statsmodels.stats.power as smp\n",
    "\n",
    "# Parameters for power analysis\n",
    "alpha = 0.05  # Significance level\n",
    "power = 0.8  # Desired power\n",
    "effect_size = 0.3 # Cohen's f (moderate effect size)\n",
    "k_groups = 3 # number of groups\n",
    "\n",
    "# Compute the required sample size for a one-way ANOVA\n",
    "sample_size = smp.FTestAnovaPower().solve_power(effect_size=effect_size, alpha=alpha, power=power, k_groups=k_groups)\n",
    "\n",
    "# Print the estimated sample size\n",
    "print(f\"Estimated required sample size per group: {int(sample_size)}\")\n",
    "print(f\"Estimated total sample size: {int(sample_size*k_groups)}\")"
   ]
  }
 ],
 "metadata": {
  "kernelspec": {
   "display_name": "Python 3",
   "language": "python",
   "name": "python3"
  },
  "language_info": {
   "codemirror_mode": {
    "name": "ipython",
    "version": 3
   },
   "file_extension": ".py",
   "mimetype": "text/x-python",
   "name": "python",
   "nbconvert_exporter": "python",
   "pygments_lexer": "ipython3",
   "version": "3.10.9"
  }
 },
 "nbformat": 4,
 "nbformat_minor": 2
}
