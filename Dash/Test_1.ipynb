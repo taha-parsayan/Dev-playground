{
 "cells": [
  {
   "cell_type": "markdown",
   "metadata": {},
   "source": [
    "Install packages"
   ]
  },
  {
   "cell_type": "code",
   "execution_count": null,
   "metadata": {},
   "outputs": [],
   "source": [
    "! pip install dash"
   ]
  },
  {
   "cell_type": "code",
   "execution_count": null,
   "metadata": {},
   "outputs": [],
   "source": [
    "! pip install pandas"
   ]
  },
  {
   "cell_type": "code",
   "execution_count": null,
   "metadata": {},
   "outputs": [],
   "source": [
    "! pip install dash_design_kit"
   ]
  },
  {
   "cell_type": "code",
   "execution_count": 36,
   "metadata": {},
   "outputs": [
    {
     "name": "stdout",
     "output_type": "stream",
     "text": [
      "Requirement already satisfied: dash-design-kit in d:\\python-codes\\packages\\lib\\site-packages (0.0.1)\n"
     ]
    },
    {
     "name": "stderr",
     "output_type": "stream",
     "text": [
      "\n",
      "[notice] A new release of pip is available: 25.0 -> 25.0.1\n",
      "[notice] To update, run: python.exe -m pip install --upgrade pip\n"
     ]
    }
   ],
   "source": [
    "! pip install dash-design-kit"
   ]
  },
  {
   "cell_type": "code",
   "execution_count": 31,
   "metadata": {},
   "outputs": [
    {
     "name": "stdout",
     "output_type": "stream",
     "text": [
      "Error executing command: ['git', 'commit', '-m', 'Updated dahsbord test 1']\n",
      "Error message: \n"
     ]
    },
    {
     "data": {
      "text/plain": [
       "''"
      ]
     },
     "execution_count": 31,
     "metadata": {},
     "output_type": "execute_result"
    }
   ],
   "source": [
    "import os\n",
    "import sys\n",
    "current_path = os.getcwd()\n",
    "parrent_path = os.path.abspath(os.path.join(current_path, '..'))\n",
    "sys.path.append(parrent_path)\n",
    "from Update_Git import git_add, git_commit, git_push\n",
    "\n",
    "file_path = os.path.join(current_path, 'Test_1.ipynb')\n",
    "git_add(file_path)\n",
    "git_commit('Updated dahsbord test 1')\n",
    "git_push('main')"
   ]
  },
  {
   "cell_type": "code",
   "execution_count": 28,
   "metadata": {},
   "outputs": [
    {
     "data": {
      "text/html": [
       "\n",
       "        <iframe\n",
       "            width=\"100%\"\n",
       "            height=\"650\"\n",
       "            src=\"http://127.0.0.1:8050/\"\n",
       "            frameborder=\"0\"\n",
       "            allowfullscreen\n",
       "            \n",
       "        ></iframe>\n",
       "        "
      ],
      "text/plain": [
       "<IPython.lib.display.IFrame at 0x20fc3cf3460>"
      ]
     },
     "metadata": {},
     "output_type": "display_data"
    }
   ],
   "source": [
    "# Import packages\n",
    "from dash import Dash, html, dash_table, dcc, callback, Output, Input\n",
    "import pandas as pd\n",
    "import plotly.express as px\n",
    "\n",
    "# Incorporate data\n",
    "df = pd.read_csv('https://raw.githubusercontent.com/plotly/datasets/master/gapminder2007.csv')\n",
    "\n",
    "# Initialize the app - incorporate css\n",
    "external_stylesheets = ['https://codepen.io/chriddyp/pen/bWLwgP.css']\n",
    "app = Dash(external_stylesheets=external_stylesheets)\n",
    "\n",
    "# App layout\n",
    "app.layout = [\n",
    "    html.Div(className='row', children='My First App with Data, Graph, and Controls',\n",
    "             style={'textAlign': 'center', 'color': 'blue', 'fontSize': 30}),\n",
    "\n",
    "    html.Div(className='row', children=[\n",
    "        dcc.RadioItems(options=['pop', 'lifeExp', 'gdpPercap'],\n",
    "                       value='lifeExp',\n",
    "                       inline=True,\n",
    "                       id='my-radio-buttons-final')\n",
    "    ]),\n",
    "\n",
    "    html.Div(className='row', children=[\n",
    "        html.Div(className='six columns', children=[\n",
    "            dash_table.DataTable(data=df.to_dict('records'), page_size=11, style_table={'overflowX': 'auto'})\n",
    "        ]),\n",
    "        html.Div(className='six columns', children=[\n",
    "            dcc.Graph(figure={}, id='histo-chart-final')\n",
    "        ])\n",
    "    ])\n",
    "]\n",
    "\n",
    "# Add controls to build the interaction\n",
    "@callback(\n",
    "    Output(component_id='histo-chart-final', component_property='figure'),\n",
    "    Input(component_id='my-radio-buttons-final', component_property='value')\n",
    ")\n",
    "def update_graph(col_chosen):\n",
    "    fig = px.histogram(df, x='continent', y=col_chosen, histfunc='avg')\n",
    "    return fig\n",
    "\n",
    "# Run the app\n",
    "if __name__ == '__main__':\n",
    "    app.run(debug=True)\n"
   ]
  },
  {
   "cell_type": "code",
   "execution_count": 34,
   "metadata": {},
   "outputs": [
    {
     "ename": "Exception",
     "evalue": "\n\n    dash-design-kit is a commercial package distributed on\n    instances of Dash Enterprise https://plotly.com/dash/.\n    You have installed a non-functional stub version of the package\n    from pypi.org instead of from a private Dash Enterprise instance.\n    If you are a Dash Enterprise customer, please ensure you've\n    installed dash-design-kit with the `--extra-index-url` argument,\n    either in your requirements.txt file or in the command line,\n    so that the package is installed from Dash Enterprise's private,\n    commercial package repository instead of from pypi.org.\n    Visit the docs for your Dash Enterprise installation at:\n    https://<your-dash-enterprise-instance>/Docs\n    for details.\n\n",
     "output_type": "error",
     "traceback": [
      "\u001b[1;31m---------------------------------------------------------------------------\u001b[0m",
      "\u001b[1;31mException\u001b[0m                                 Traceback (most recent call last)",
      "Cell \u001b[1;32mIn[34], line 5\u001b[0m\n\u001b[0;32m      3\u001b[0m \u001b[38;5;28;01mimport\u001b[39;00m\u001b[38;5;250m \u001b[39m\u001b[38;5;21;01mpandas\u001b[39;00m\u001b[38;5;250m \u001b[39m\u001b[38;5;28;01mas\u001b[39;00m\u001b[38;5;250m \u001b[39m\u001b[38;5;21;01mpd\u001b[39;00m\n\u001b[0;32m      4\u001b[0m \u001b[38;5;28;01mimport\u001b[39;00m\u001b[38;5;250m \u001b[39m\u001b[38;5;21;01mplotly\u001b[39;00m\u001b[38;5;21;01m.\u001b[39;00m\u001b[38;5;21;01mexpress\u001b[39;00m\u001b[38;5;250m \u001b[39m\u001b[38;5;28;01mas\u001b[39;00m\u001b[38;5;250m \u001b[39m\u001b[38;5;21;01mpx\u001b[39;00m\n\u001b[1;32m----> 5\u001b[0m \u001b[38;5;28;01mimport\u001b[39;00m\u001b[38;5;250m \u001b[39m\u001b[38;5;21;01mdash_design_kit\u001b[39;00m\u001b[38;5;250m \u001b[39m\u001b[38;5;28;01mas\u001b[39;00m\u001b[38;5;250m \u001b[39m\u001b[38;5;21;01mddk\u001b[39;00m\n\u001b[0;32m      7\u001b[0m \u001b[38;5;66;03m# Incorporate data\u001b[39;00m\n\u001b[0;32m      8\u001b[0m df \u001b[38;5;241m=\u001b[39m pd\u001b[38;5;241m.\u001b[39mread_csv(\u001b[38;5;124m'\u001b[39m\u001b[38;5;124mhttps://raw.githubusercontent.com/plotly/datasets/master/gapminder2007.csv\u001b[39m\u001b[38;5;124m'\u001b[39m)\n",
      "File \u001b[1;32md:\\Python-codes\\packages\\lib\\site-packages\\dash_design_kit\\__init__.py:1\u001b[0m\n\u001b[1;32m----> 1\u001b[0m \u001b[38;5;28;01mraise\u001b[39;00m \u001b[38;5;167;01mException\u001b[39;00m(\u001b[38;5;124m\"\"\"\u001b[39m\n\u001b[0;32m      2\u001b[0m \n\u001b[0;32m      3\u001b[0m \u001b[38;5;124m    dash-design-kit is a commercial package distributed on\u001b[39m\n\u001b[0;32m      4\u001b[0m \u001b[38;5;124m    instances of Dash Enterprise https://plotly.com/dash/.\u001b[39m\n\u001b[0;32m      5\u001b[0m \u001b[38;5;124m    You have installed a non-functional stub version of the package\u001b[39m\n\u001b[0;32m      6\u001b[0m \u001b[38;5;124m    from pypi.org instead of from a private Dash Enterprise instance.\u001b[39m\n\u001b[0;32m      7\u001b[0m \u001b[38;5;124m    If you are a Dash Enterprise customer, please ensure you\u001b[39m\u001b[38;5;124m'\u001b[39m\u001b[38;5;124mve\u001b[39m\n\u001b[0;32m      8\u001b[0m \u001b[38;5;124m    installed dash-design-kit with the `--extra-index-url` argument,\u001b[39m\n\u001b[0;32m      9\u001b[0m \u001b[38;5;124m    either in your requirements.txt file or in the command line,\u001b[39m\n\u001b[0;32m     10\u001b[0m \u001b[38;5;124m    so that the package is installed from Dash Enterprise\u001b[39m\u001b[38;5;124m'\u001b[39m\u001b[38;5;124ms private,\u001b[39m\n\u001b[0;32m     11\u001b[0m \u001b[38;5;124m    commercial package repository instead of from pypi.org.\u001b[39m\n\u001b[0;32m     12\u001b[0m \u001b[38;5;124m    Visit the docs for your Dash Enterprise installation at:\u001b[39m\n\u001b[0;32m     13\u001b[0m \u001b[38;5;124m    https://<your-dash-enterprise-instance>/Docs\u001b[39m\n\u001b[0;32m     14\u001b[0m \u001b[38;5;124m    for details.\u001b[39m\n\u001b[0;32m     15\u001b[0m \n\u001b[0;32m     16\u001b[0m \u001b[38;5;124m\"\"\"\u001b[39m)\n",
      "\u001b[1;31mException\u001b[0m: \n\n    dash-design-kit is a commercial package distributed on\n    instances of Dash Enterprise https://plotly.com/dash/.\n    You have installed a non-functional stub version of the package\n    from pypi.org instead of from a private Dash Enterprise instance.\n    If you are a Dash Enterprise customer, please ensure you've\n    installed dash-design-kit with the `--extra-index-url` argument,\n    either in your requirements.txt file or in the command line,\n    so that the package is installed from Dash Enterprise's private,\n    commercial package repository instead of from pypi.org.\n    Visit the docs for your Dash Enterprise installation at:\n    https://<your-dash-enterprise-instance>/Docs\n    for details.\n\n"
     ]
    }
   ],
   "source": [
    "# Import packages\n",
    "from dash import Dash, html, dash_table, dcc, callback, Output, Input\n",
    "import pandas as pd\n",
    "import plotly.express as px\n",
    "import dash_design_kit as ddk\n",
    "\n",
    "# Incorporate data\n",
    "df = pd.read_csv('https://raw.githubusercontent.com/plotly/datasets/master/gapminder2007.csv')\n",
    "\n",
    "# Initialize the app\n",
    "app = Dash()\n",
    "\n",
    "# App layout\n",
    "app.layout = ddk.App([\n",
    "    ddk.Header(ddk.Title('My First App with Data, Graph, and Controls')),\n",
    "    dcc.RadioItems(options=['pop', 'lifeExp', 'gdpPercap'],\n",
    "                    value='lifeExp',\n",
    "                    inline=True,\n",
    "                    id='my-ddk-radio-items-final'),\n",
    "    ddk.Row([\n",
    "        ddk.Card([\n",
    "            dash_table.DataTable(data=df.to_dict('records'), page_size=12, style_table={'overflowX': 'auto'})\n",
    "        ], width=50),\n",
    "        ddk.Card([\n",
    "            ddk.Graph(figure={}, id='graph-placeholder-ddk-final')\n",
    "        ], width=50),\n",
    "    ]),\n",
    "\n",
    "])\n",
    "\n",
    "# Add controls to build the interaction\n",
    "@callback(\n",
    "    Output(component_id='graph-placeholder-ddk-final', component_property='figure'),\n",
    "    Input(component_id='my-ddk-radio-items-final', component_property='value')\n",
    ")\n",
    "def update_graph(col_chosen):\n",
    "    fig = px.histogram(df, x='continent', y=col_chosen, histfunc='avg')\n",
    "    return fig\n",
    "\n",
    "# Run the app\n",
    "if __name__ == '__main__':\n",
    "    app.run(debug=True)\n"
   ]
  }
 ],
 "metadata": {
  "kernelspec": {
   "display_name": "packages",
   "language": "python",
   "name": "python3"
  },
  "language_info": {
   "codemirror_mode": {
    "name": "ipython",
    "version": 3
   },
   "file_extension": ".py",
   "mimetype": "text/x-python",
   "name": "python",
   "nbconvert_exporter": "python",
   "pygments_lexer": "ipython3",
   "version": "3.10.9"
  }
 },
 "nbformat": 4,
 "nbformat_minor": 2
}
